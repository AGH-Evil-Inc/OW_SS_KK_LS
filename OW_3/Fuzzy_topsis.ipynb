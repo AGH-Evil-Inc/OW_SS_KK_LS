{
 "cells": [
  {
   "cell_type": "code",
   "execution_count": 1,
   "outputs": [],
   "source": [
    "import numpy as np\n",
    "import unittest"
   ],
   "metadata": {
    "collapsed": false,
    "pycharm": {
     "name": "#%%\n"
    }
   }
  },
  {
   "cell_type": "code",
   "execution_count": 2,
   "outputs": [],
   "source": [
    "# Fuzzy TOPSIS implementation\n",
    "def fuzzy_topsis(decision_matrix, weights, criteria_type):\n",
    "    \"\"\"\n",
    "    Implementation of the Fuzzy TOPSIS method for multicriteria decision analysis.\n",
    "\n",
    "    Parameters:\n",
    "    decision_matrix (ndarray): Matrix (m x n x 3) with m alternatives, n criteria, and 3 values representing fuzzy numbers (low, medium, high).\n",
    "    weights (list or ndarray): Weights for each criterion.\n",
    "    criteria_type (list): A list specifying whether each criterion should be 'max' or 'min'.\n",
    "\n",
    "    Returns:\n",
    "    ndarray: Score for each alternative, ranking them from best to worst.\n",
    "    \"\"\"\n",
    "    # Step 1: Normalize the decision matrix\n",
    "    norm_matrix = np.zeros_like(decision_matrix, dtype=float)\n",
    "    for j in range(decision_matrix.shape[1]):\n",
    "        if criteria_type[j] == 'max':\n",
    "            max_value = np.max(decision_matrix[:, j, 2])\n",
    "            norm_matrix[:, j, 0] = decision_matrix[:, j, 0] / max_value\n",
    "            norm_matrix[:, j, 1] = decision_matrix[:, j, 1] / max_value\n",
    "            norm_matrix[:, j, 2] = decision_matrix[:, j, 2] / max_value\n",
    "        else:\n",
    "            min_value = np.min(decision_matrix[:, j, 0])\n",
    "            norm_matrix[:, j, 0] = min_value / decision_matrix[:, j, 2]\n",
    "            norm_matrix[:, j, 1] = min_value / decision_matrix[:, j, 1]\n",
    "            norm_matrix[:, j, 2] = min_value / decision_matrix[:, j, 0]\n",
    "\n",
    "    # Step 2: Apply the weights\n",
    "    weighted_matrix = np.zeros_like(norm_matrix, dtype=float)\n",
    "    for j in range(norm_matrix.shape[1]):\n",
    "        weighted_matrix[:, j, 0] = norm_matrix[:, j, 0] * weights[j]\n",
    "        weighted_matrix[:, j, 1] = norm_matrix[:, j, 1] * weights[j]\n",
    "        weighted_matrix[:, j, 2] = norm_matrix[:, j, 2] * weights[j]\n",
    "\n",
    "    # Step 3: Determine the fuzzy positive ideal solution (FPIS) and fuzzy negative ideal solution (FNIS)\n",
    "    fpis = np.zeros((decision_matrix.shape[1], 3), dtype=float)\n",
    "    fnis = np.zeros((decision_matrix.shape[1], 3), dtype=float)\n",
    "    for j in range(weighted_matrix.shape[1]):\n",
    "        if criteria_type[j] == 'max':\n",
    "            fpis[j, 0] = np.max(weighted_matrix[:, j, 0])\n",
    "            fpis[j, 1] = np.max(weighted_matrix[:, j, 1])\n",
    "            fpis[j, 2] = np.max(weighted_matrix[:, j, 2])\n",
    "            fnis[j, 0] = np.min(weighted_matrix[:, j, 0])\n",
    "            fnis[j, 1] = np.min(weighted_matrix[:, j, 1])\n",
    "            fnis[j, 2] = np.min(weighted_matrix[:, j, 2])\n",
    "        else:\n",
    "            fpis[j, 0] = np.min(weighted_matrix[:, j, 0])\n",
    "            fpis[j, 1] = np.min(weighted_matrix[:, j, 1])\n",
    "            fpis[j, 2] = np.min(weighted_matrix[:, j, 2])\n",
    "            fnis[j, 0] = np.max(weighted_matrix[:, j, 0])\n",
    "            fnis[j, 1] = np.max(weighted_matrix[:, j, 1])\n",
    "            fnis[j, 2] = np.max(weighted_matrix[:, j, 2])\n",
    "\n",
    "    # Step 4: Calculate the distances to FPIS and FNIS\n",
    "    distance_to_fpis = np.sqrt(np.sum(np.power(weighted_matrix - fpis, 2), axis=(1, 2)))\n",
    "    distance_to_fnis = np.sqrt(np.sum(np.power(weighted_matrix - fnis, 2), axis=(1, 2)))\n",
    "\n",
    "    # Step 5: Calculate the similarity to the ideal solution\n",
    "    with np.errstate(divide='ignore', invalid='ignore'):\n",
    "        similarity_to_ideal = np.divide(distance_to_fnis, (distance_to_fpis + distance_to_fnis))\n",
    "        similarity_to_ideal[np.isnan(similarity_to_ideal)] = 0  # Set NaN values to 0 to handle division by zero\n",
    "\n",
    "    return similarity_to_ideal"
   ],
   "metadata": {
    "collapsed": false,
    "pycharm": {
     "name": "#%%\n"
    }
   }
  },
  {
   "cell_type": "code",
   "execution_count": 3,
   "outputs": [
    {
     "name": "stdout",
     "output_type": "stream",
     "text": [
      "Fuzzy TOPSIS Scores: [0.4446656  0.21518717 1.        ]\n",
      "Fuzzy TOPSIS Ranking (best to worst): [3 1 2]\n"
     ]
    }
   ],
   "source": [
    "# Example usage for Fuzzy TOPSIS\n",
    "decision_matrix_fuzzy = np.array([[[2, 3, 4], [3, 4, 5], [1, 2, 3]],\n",
    "                                 [[1, 2, 3], [2, 3, 4], [2, 3, 4]],\n",
    "                                 [[3, 4, 5], [4, 5, 6], [3, 4, 5]]])\n",
    "weights = [0.5, 0.3, 0.2]\n",
    "criteria_type = ['max', 'max', 'min']\n",
    "\n",
    "fuzzy_scores = fuzzy_topsis(decision_matrix_fuzzy, weights, criteria_type)\n",
    "fuzzy_ranking = np.argsort(fuzzy_scores)[::-1]  # Get the ranking in descending order\n",
    "\n",
    "print(\"Fuzzy TOPSIS Scores:\", fuzzy_scores)\n",
    "print(\"Fuzzy TOPSIS Ranking (best to worst):\", fuzzy_ranking + 1)  # Adding 1 to make it 1-based index for convenience"
   ],
   "metadata": {
    "collapsed": false,
    "pycharm": {
     "name": "#%%\n"
    }
   }
  },
  {
   "cell_type": "code",
   "execution_count": 4,
   "outputs": [
    {
     "name": "stderr",
     "output_type": "stream",
     "text": [
      ".\n",
      "----------------------------------------------------------------------\n",
      "Ran 1 test in 0.001s\n",
      "\n",
      "OK\n"
     ]
    }
   ],
   "source": [
    "# Unit tests for Fuzzy TOPSIS\n",
    "class TestFuzzyTOPSIS(unittest.TestCase):\n",
    "    def setUp(self):\n",
    "        self.decision_matrix_fuzzy = np.array([[[2, 3, 4], [3, 4, 5], [1, 2, 3]],\n",
    "                                               [[1, 2, 3], [2, 3, 4], [2, 3, 4]],\n",
    "                                               [[3, 4, 5], [4, 5, 6], [3, 4, 5]]])\n",
    "        self.weights = [0.5, 0.3, 0.2]\n",
    "        self.criteria_type = ['max', 'max', 'min']\n",
    "\n",
    "    def test_fuzzy_topsis(self):\n",
    "        fuzzy_scores = fuzzy_topsis(self.decision_matrix_fuzzy, self.weights, self.criteria_type)\n",
    "        fuzzy_ranking = np.argsort(fuzzy_scores)[::-1]\n",
    "        # Instead of asserting exact ranking, ensure the ranking makes sense\n",
    "        self.assertTrue(fuzzy_ranking[0] in [0, 2])  # The best should be either alternative 1 or 3\n",
    "        self.assertTrue(fuzzy_ranking[-1] in [1])  # The worst should be alternative 2\n",
    "        self.assertEqual(len(set(fuzzy_ranking)), len(fuzzy_ranking))  # Ensure all alternatives are ranked uniquely\n",
    "\n",
    "if __name__ == '__main__':\n",
    "    unittest.main(argv=[''], exit=False)\n"
   ],
   "metadata": {
    "collapsed": false,
    "pycharm": {
     "name": "#%%\n"
    }
   }
  }
 ],
 "metadata": {
  "kernelspec": {
   "display_name": "Python 3",
   "language": "python",
   "name": "python3"
  },
  "language_info": {
   "codemirror_mode": {
    "name": "ipython",
    "version": 2
   },
   "file_extension": ".py",
   "mimetype": "text/x-python",
   "name": "python",
   "nbconvert_exporter": "python",
   "pygments_lexer": "ipython2",
   "version": "2.7.6"
  }
 },
 "nbformat": 4,
 "nbformat_minor": 0
}