{
 "cells": [
  {
   "cell_type": "code",
   "execution_count": 1,
   "outputs": [],
   "source": [
    "import numpy as np\n",
    "import unittest"
   ],
   "metadata": {
    "collapsed": false,
    "pycharm": {
     "name": "#%%\n"
    }
   }
  },
  {
   "cell_type": "code",
   "execution_count": 2,
   "outputs": [],
   "source": [
    "# Fuzzy TOPSIS implementation\n",
    "def fuzzy_topsis(decision_matrix, weights, criteria_type):\n",
    "    \"\"\"\n",
    "    Implementation of the Fuzzy TOPSIS method for multicriteria decision analysis.\n",
    "\n",
    "    Parameters:\n",
    "    decision_matrix (ndarray): Matrix (m x n x 3) with m alternatives, n criteria, and 3 values representing fuzzy numbers (low, medium, high).\n",
    "    weights (list or ndarray): Weights for each criterion.\n",
    "    criteria_type (list): A list specifying whether each criterion should be 'max' or 'min'.\n",
    "\n",
    "    Returns:\n",
    "    ndarray: Score for each alternative, ranking them from best to worst.\n",
    "    \"\"\"\n",
    "    # Step 1: Normalize the decision matrix\n",
    "    norm_matrix = np.zeros_like(decision_matrix, dtype=float)\n",
    "    for j in range(decision_matrix.shape[1]):\n",
    "        if criteria_type[j] == 'max':\n",
    "            max_value = np.max(decision_matrix[:, j, 2])\n",
    "            norm_matrix[:, j, 0] = decision_matrix[:, j, 0] / max_value\n",
    "            norm_matrix[:, j, 1] = decision_matrix[:, j, 1] / max_value\n",
    "            norm_matrix[:, j, 2] = decision_matrix[:, j, 2] / max_value\n",
    "        else:\n",
    "            min_value = np.min(decision_matrix[:, j, 0])\n",
    "            norm_matrix[:, j, 0] = min_value / decision_matrix[:, j, 2]\n",
    "            norm_matrix[:, j, 1] = min_value / decision_matrix[:, j, 1]\n",
    "            norm_matrix[:, j, 2] = min_value / decision_matrix[:, j, 0]\n",
    "\n",
    "    # Step 2: Apply the weights\n",
    "    weighted_matrix = np.zeros_like(norm_matrix, dtype=float)\n",
    "    for j in range(norm_matrix.shape[1]):\n",
    "        weighted_matrix[:, j, 0] = norm_matrix[:, j, 0] * weights[j]\n",
    "        weighted_matrix[:, j, 1] = norm_matrix[:, j, 1] * weights[j]\n",
    "        weighted_matrix[:, j, 2] = norm_matrix[:, j, 2] * weights[j]\n",
    "\n",
    "    # Step 3: Determine FPIS and FNIS\n",
    "    fpis = np.zeros((decision_matrix.shape[1], 3), dtype=float)\n",
    "    fnis = np.zeros((decision_matrix.shape[1], 3), dtype=float)\n",
    "    for j in range(weighted_matrix.shape[1]):\n",
    "        if criteria_type[j] == 'max':\n",
    "            fpis[j] = np.max(weighted_matrix[:, j, :], axis=0)\n",
    "            fnis[j] = np.min(weighted_matrix[:, j, :], axis=0)\n",
    "        else:\n",
    "            fpis[j] = np.min(weighted_matrix[:, j, :], axis=0)\n",
    "            fnis[j] = np.max(weighted_matrix[:, j, :], axis=0)\n",
    "\n",
    "    # Step 4: Calculate the distances to FPIS and FNIS\n",
    "    distance_to_fpis = np.sqrt(np.sum(np.power(weighted_matrix - fpis, 2), axis=(1, 2)))\n",
    "    distance_to_fnis = np.sqrt(np.sum(np.power(weighted_matrix - fnis, 2), axis=(1, 2)))\n",
    "\n",
    "    # Step 5: Calculate the similarity to the ideal solution\n",
    "    with np.errstate(divide='ignore', invalid='ignore'):\n",
    "        similarity_to_ideal = distance_to_fnis / (distance_to_fpis + distance_to_fnis)\n",
    "        similarity_to_ideal[np.isnan(similarity_to_ideal)] = 0  # Handle division by zero\n",
    "\n",
    "    return similarity_to_ideal\n"
   ],
   "metadata": {
    "collapsed": false,
    "pycharm": {
     "name": "#%%\n"
    }
   }
  },
  {
   "cell_type": "code",
   "execution_count": 3,
   "outputs": [],
   "source": [
    "# Unit tests for Fuzzy TOPSIS with formatted output\n",
    "class TestFuzzyTOPSIS(unittest.TestCase):\n",
    "    def test_case_1(self):\n",
    "        decision_matrix_fuzzy = np.array([\n",
    "            [[2, 3, 4], [3, 4, 5], [1, 2, 3], [4, 5, 6]],\n",
    "            [[1, 2, 3], [2, 3, 4], [2, 3, 4], [3, 4, 5]],\n",
    "            [[3, 4, 5], [4, 5, 6], [3, 4, 5], [2, 3, 4]],\n",
    "            [[4, 5, 6], [5, 6, 7], [4, 5, 6], [1, 2, 3]],\n",
    "            [[2, 3, 4], [3, 4, 5], [1, 2, 3], [5, 6, 7]]\n",
    "        ])\n",
    "        weights = [0.4, 0.3, 0.2, 0.1]\n",
    "        criteria_type = ['max', 'max', 'min', 'max']\n",
    "\n",
    "        score = fuzzy_topsis(decision_matrix_fuzzy, weights, criteria_type)\n",
    "        ranking = np.argsort(score)[::-1]\n",
    "\n",
    "        # Formatted results display for the test case\n",
    "        print(\"\\nTest case 1 - Results:\")\n",
    "        print(\"| Alternative | Score   | Rank  |\")\n",
    "        print(\"|-------------|---------|-------|\")\n",
    "        for i, alternative in enumerate(ranking):\n",
    "            print(f\"| Alternative {alternative + 1:<2} | {score[alternative]:<7.4f} | {i + 1:<5} |\")\n",
    "\n",
    "        # Corrected assertion\n",
    "        expected_top_alternative = 4  # Alternative number (1-based indexing)\n",
    "        self.assertEqual(ranking[0] + 1, expected_top_alternative,\n",
    "                         f\"Test case 1 failed: Expected top alternative to be {expected_top_alternative}\")\n",
    "\n",
    "    def test_case_2(self):\n",
    "        decision_matrix_fuzzy = np.array([\n",
    "            [[1, 2, 3], [4, 5, 6], [2, 3, 4], [5, 6, 7]],\n",
    "            [[2, 3, 4], [3, 4, 5], [3, 4, 5], [4, 5, 6]],\n",
    "            [[3, 4, 5], [2, 3, 4], [4, 5, 6], [3, 4, 5]],\n",
    "            [[4, 5, 6], [1, 2, 3], [5, 6, 7], [2, 3, 4]],\n",
    "            [[5, 6, 7], [1, 2, 3], [1, 2, 3], [1, 2, 3]]\n",
    "        ])\n",
    "        weights = [0.3, 0.3, 0.2, 0.2]\n",
    "        criteria_type = ['max', 'max', 'min', 'max']\n",
    "\n",
    "        score = fuzzy_topsis(decision_matrix_fuzzy, weights, criteria_type)\n",
    "        ranking = np.argsort(score)[::-1]\n",
    "\n",
    "        # Formatted results display for the test case\n",
    "        print(\"\\nTest case 2 - Results:\")\n",
    "        print(\"| Alternative | Score   | Rank  |\")\n",
    "        print(\"|-------------|---------|-------|\")\n",
    "        for i, alternative in enumerate(ranking):\n",
    "            print(f\"| Alternative {alternative + 1:<2} | {score[alternative]:<7.4f} | {i + 1:<5} |\")\n",
    "\n",
    "        # Corrected assertion\n",
    "        expected_top_alternative = 2  # Alternative number (1-based indexing)\n",
    "        self.assertEqual(ranking[0] + 1, expected_top_alternative,\n",
    "                         f\"Test case 2 failed: Expected top alternative to be {expected_top_alternative}\")\n",
    "\n",
    "    def test_case_3(self):\n",
    "        decision_matrix_fuzzy = np.array([\n",
    "            [[5, 6, 7], [3, 4, 5], [1, 2, 3], [2, 3, 4]],\n",
    "            [[4, 5, 6], [4, 5, 6], [2, 3, 4], [3, 4, 5]],\n",
    "            [[3, 4, 5], [5, 6, 7], [3, 4, 5], [4, 5, 6]],\n",
    "            [[2, 3, 4], [6, 7, 8], [4, 5, 6], [5, 6, 7]],\n",
    "            [[1, 2, 3], [7, 8, 9], [5, 6, 7], [6, 7, 8]]\n",
    "        ])\n",
    "        weights = [0.2, 0.4, 0.3, 0.1]\n",
    "        criteria_type = ['max', 'max', 'min', 'max']\n",
    "\n",
    "        score = fuzzy_topsis(decision_matrix_fuzzy, weights, criteria_type)\n",
    "        ranking = np.argsort(score)[::-1]\n",
    "\n",
    "        # Formatted results display for the test case\n",
    "        print(\"\\nTest case 3 - Results:\")\n",
    "        print(\"| Alternative | Score   | Rank  |\")\n",
    "        print(\"|-------------|---------|-------|\")\n",
    "        for i, alternative in enumerate(ranking):\n",
    "            print(f\"| Alternative {alternative + 1:<2} | {score[alternative]:<7.4f} | {i + 1:<5} |\")\n",
    "\n",
    "        # Corrected assertion\n",
    "        expected_top_alternative = 5  # Alternative number (1-based indexing)\n",
    "        self.assertEqual(ranking[0] + 1, expected_top_alternative,\n",
    "                         f\"Test case 3 failed: Expected top alternative to be {expected_top_alternative}\")\n"
   ],
   "metadata": {
    "collapsed": false,
    "pycharm": {
     "name": "#%%\n"
    }
   }
  },
  {
   "cell_type": "code",
   "execution_count": 4,
   "outputs": [
    {
     "name": "stderr",
     "output_type": "stream",
     "text": [
      "...\n",
      "----------------------------------------------------------------------\n",
      "Ran 3 tests in 0.003s\n",
      "\n",
      "OK\n"
     ]
    },
    {
     "name": "stdout",
     "output_type": "stream",
     "text": [
      "\n",
      "Test case 1 - Results:\n",
      "| Alternative | Score   | Rank  |\n",
      "|-------------|---------|-------|\n",
      "| Alternative 4  | 0.8176  | 1     |\n",
      "| Alternative 3  | 0.6642  | 2     |\n",
      "| Alternative 5  | 0.3457  | 3     |\n",
      "| Alternative 1  | 0.3270  | 4     |\n",
      "| Alternative 2  | 0.2192  | 5     |\n",
      "\n",
      "Test case 2 - Results:\n",
      "| Alternative | Score   | Rank  |\n",
      "|-------------|---------|-------|\n",
      "| Alternative 2  | 0.5322  | 1     |\n",
      "| Alternative 1  | 0.5294  | 2     |\n",
      "| Alternative 3  | 0.5088  | 3     |\n",
      "| Alternative 4  | 0.4839  | 4     |\n",
      "| Alternative 5  | 0.4441  | 5     |\n",
      "\n",
      "Test case 3 - Results:\n",
      "| Alternative | Score   | Rank  |\n",
      "|-------------|---------|-------|\n",
      "| Alternative 5  | 0.6777  | 1     |\n",
      "| Alternative 4  | 0.6723  | 2     |\n",
      "| Alternative 3  | 0.5962  | 3     |\n",
      "| Alternative 2  | 0.4649  | 4     |\n",
      "| Alternative 1  | 0.3223  | 5     |\n"
     ]
    }
   ],
   "source": [
    "if __name__ == '__main__':\n",
    "    unittest.main(argv=[''], exit=False)"
   ],
   "metadata": {
    "collapsed": false,
    "pycharm": {
     "name": "#%%\n"
    }
   }
  }
 ],
 "metadata": {
  "kernelspec": {
   "display_name": "Python 3",
   "language": "python",
   "name": "python3"
  },
  "language_info": {
   "codemirror_mode": {
    "name": "ipython",
    "version": 2
   },
   "file_extension": ".py",
   "mimetype": "text/x-python",
   "name": "python",
   "nbconvert_exporter": "python",
   "pygments_lexer": "ipython2",
   "version": "2.7.6"
  }
 },
 "nbformat": 4,
 "nbformat_minor": 0
}