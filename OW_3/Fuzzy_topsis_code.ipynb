{
 "cells": [
  {
   "cell_type": "code",
   "execution_count": 1,
   "metadata": {
    "collapsed": true,
    "pycharm": {
     "name": "#%%\n"
    }
   },
   "outputs": [],
   "source": [
    "import numpy as np\n",
    "import unittest\n",
    "\n",
    "# Fuzzy TOPSIS implementation\n",
    "def fuzzy_topsis(decision_matrix, weights, criteria_type):\n",
    "    \"\"\"\n",
    "    Implementation of the Fuzzy TOPSIS method for multicriteria decision analysis.\n",
    "\n",
    "    Parameters:\n",
    "    decision_matrix (ndarray): Matrix (m x n x 3) with m alternatives, n criteria, and 3 values representing fuzzy numbers (low, medium, high).\n",
    "    weights (list or ndarray): Weights for each criterion.\n",
    "    criteria_type (list): A list specifying whether each criterion should be 'max' or 'min'.\n",
    "\n",
    "    Returns:\n",
    "    ndarray: Score for each alternative, ranking them from best to worst.\n",
    "    \"\"\"\n",
    "    # Step 1: Normalize the decision matrix\n",
    "    norm_matrix = np.zeros_like(decision_matrix, dtype=float)\n",
    "    for j in range(decision_matrix.shape[1]):\n",
    "        if criteria_type[j] == 'max':\n",
    "            max_value = np.max(decision_matrix[:, j, 2])\n",
    "            norm_matrix[:, j, 0] = decision_matrix[:, j, 0] / max_value\n",
    "            norm_matrix[:, j, 1] = decision_matrix[:, j, 1] / max_value\n",
    "            norm_matrix[:, j, 2] = decision_matrix[:, j, 2] / max_value\n",
    "        else:\n",
    "            min_value = np.min(decision_matrix[:, j, 0])\n",
    "            norm_matrix[:, j, 0] = min_value / decision_matrix[:, j, 2]\n",
    "            norm_matrix[:, j, 1] = min_value / decision_matrix[:, j, 1]\n",
    "            norm_matrix[:, j, 2] = min_value / decision_matrix[:, j, 0]\n",
    "\n",
    "    # Step 2: Apply the weights\n",
    "    weighted_matrix = np.zeros_like(norm_matrix, dtype=float)\n",
    "    for j in range(norm_matrix.shape[1]):\n",
    "        weighted_matrix[:, j, 0] = norm_matrix[:, j, 0] * weights[j]\n",
    "        weighted_matrix[:, j, 1] = norm_matrix[:, j, 1] * weights[j]\n",
    "        weighted_matrix[:, j, 2] = norm_matrix[:, j, 2] * weights[j]\n",
    "\n",
    "    # Step 3: Determine FPIS and FNIS\n",
    "    fpis = np.zeros((decision_matrix.shape[1], 3), dtype=float)\n",
    "    fnis = np.zeros((decision_matrix.shape[1], 3), dtype=float)\n",
    "    for j in range(weighted_matrix.shape[1]):\n",
    "        if criteria_type[j] == 'max':\n",
    "            fpis[j] = np.max(weighted_matrix[:, j, :], axis=0)\n",
    "            fnis[j] = np.min(weighted_matrix[:, j, :], axis=0)\n",
    "        else:\n",
    "            fpis[j] = np.min(weighted_matrix[:, j, :], axis=0)\n",
    "            fnis[j] = np.max(weighted_matrix[:, j, :], axis=0)\n",
    "\n",
    "    # Step 4: Calculate the distances to FPIS and FNIS\n",
    "    distance_to_fpis = np.sqrt(np.sum(np.power(weighted_matrix - fpis, 2), axis=(1, 2)))\n",
    "    distance_to_fnis = np.sqrt(np.sum(np.power(weighted_matrix - fnis, 2), axis=(1, 2)))\n",
    "\n",
    "    # Step 5: Calculate the similarity to the ideal solution\n",
    "    with np.errstate(divide='ignore', invalid='ignore'):\n",
    "        similarity_to_ideal = distance_to_fnis / (distance_to_fpis + distance_to_fnis)\n",
    "        similarity_to_ideal[np.isnan(similarity_to_ideal)] = 0  # Handle division by zero\n",
    "\n",
    "    return similarity_to_ideal"
   ]
  }
 ],
 "metadata": {
  "kernelspec": {
   "display_name": "Python 3",
   "language": "python",
   "name": "python3"
  },
  "language_info": {
   "codemirror_mode": {
    "name": "ipython",
    "version": 2
   },
   "file_extension": ".py",
   "mimetype": "text/x-python",
   "name": "python",
   "nbconvert_exporter": "python",
   "pygments_lexer": "ipython2",
   "version": "2.7.6"
  }
 },
 "nbformat": 4,
 "nbformat_minor": 0
}