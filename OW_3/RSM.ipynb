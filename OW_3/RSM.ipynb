{
 "cells": [
  {
   "cell_type": "markdown",
   "metadata": {},
   "source": [
    "# Implementacja w Pythonie\n",
    "\n",
    "Poniżej przedstawiam implementację metody zbiorów odniesienia dla problemu ciągłego 4-kryterialnego z dwoma zmiennymi decyzyjnymi oraz dla problemów dyskretnych 3- i 4-kryterialnych."
   ]
  },
  {
   "cell_type": "code",
   "execution_count": null,
   "metadata": {
    "collapsed": true,
    "pycharm": {
     "name": "#%%\n"
    }
   },
   "outputs": [
    {
     "name": "stdout",
     "output_type": "stream",
     "text": [
      "Optymalne rozwiązanie:\n",
      "x = [-5.0000, -5.0000]\n",
      "Wartości funkcji celu:\n",
      "f1(x) = 85.0000\n",
      "f2(x) = 85.0000\n",
      "f3(x) = 145.0000\n",
      "f4(x) = 145.0000\n",
      "Wartość funkcji skoringowej: 0.4788\n"
     ]
    }
   ],
   "source": [
    "import numpy as np\n",
    "from scipy.optimize import minimize\n",
    "\n",
    "# Definicja funkcji celu\n",
    "def f1(x):\n",
    "    return x[0]**2 + (x[1]+0.2)**2\n",
    "\n",
    "def f2(x):\n",
    "    return (x[0]-1)**2 + (x[1]+1)**2\n",
    "\n",
    "def f3(x):\n",
    "    return (x[0] - 3)**2 + (x[1] - 4)**2\n",
    "\n",
    "def f4(x):\n",
    "    return (x[0] - 4)**2 + (x[1] - 3)**2\n",
    "\n",
    "# Funkcja agregująca wartości funkcji celu\n",
    "def F(x):\n",
    "    return np.array([f1(x), f2(x), f3(x), f4(x)])\n",
    "\n",
    "# Punkty odniesienia\n",
    "a = np.array([0.0, 0.0, 0.0, 0.0])  # Punkt aspiracji (pożądany)\n",
    "b = np.array([10.0, 10.0, 10.0, 10.0])  # Punkt status quo (niepożądany)\n",
    "\n",
    "# Funkcja skoringowa oparta na metodzie TOPSIS\n",
    "def scoring_function(x, a, b):\n",
    "    f_values = F(x)\n",
    "    # Normalizacja\n",
    "    f_norm = (f_values - a) / (b - a)\n",
    "    # Obliczanie odległości od punktu aspiracji i status quo\n",
    "    distance_to_a = np.linalg.norm(f_norm - np.zeros(len(f_norm)))\n",
    "    distance_to_b = np.linalg.norm(f_norm - np.ones(len(f_norm)))\n",
    "    # Wskaźnik bliskości do ideału\n",
    "    C = distance_to_b / (distance_to_a + distance_to_b)\n",
    "    return C\n",
    "\n",
    "# Funkcja do minimalizacji (negacja wskaźnika C)\n",
    "def objective(x):\n",
    "    return -scoring_function(x, a, b)\n",
    "\n",
    "# Ograniczenia zmiennych decyzyjnych\n",
    "bounds = [(-5, 10), (-5, 10)]\n",
    "\n",
    "# Optymalizacja\n",
    "result = minimize(\n",
    "    objective,\n",
    "    x0=np.array([0.0, 0.0]),  # Punkt startowy\n",
    "    bounds=bounds,\n",
    "    method='SLSQP'\n",
    ")\n",
    "\n",
    "optimal_x = result.x\n",
    "optimal_f_values = F(optimal_x)\n",
    "optimal_score = scoring_function(optimal_x, a, b)\n",
    "\n",
    "print(\"Optymalne rozwiązanie:\")\n",
    "print(f\"x = [{optimal_x[0]:.4f}, {optimal_x[1]:.4f}]\")\n",
    "print(\"Wartości funkcji celu:\")\n",
    "print(f\"f1(x) = {optimal_f_values[0]:.4f}\")\n",
    "print(f\"f2(x) = {optimal_f_values[1]:.4f}\")\n",
    "print(f\"f3(x) = {optimal_f_values[2]:.4f}\")\n",
    "print(f\"f4(x) = {optimal_f_values[3]:.4f}\")\n",
    "print(f\"Wartość funkcji skoringowej: {optimal_score:.4f}\")\n"
   ]
  },
  {
   "cell_type": "markdown",
   "metadata": {},
   "source": [
    "## Wyjaśnienie:\n",
    "\n",
    "- Funkcje celu: Zdefiniowano cztery funkcje celu 𝑓1, 𝑓2, 𝑓3, 𝑓4\n",
    "- Punkty odniesienia: Punkt aspiracji 𝑎 i punkt status quo 𝑏 określają preferencje decydenta.\n",
    "- Funkcja skoringowa: Bazuje na metodzie TOPSIS, uwzględniając odległości od punktów odniesienia.\n",
    "- Optymalizacja: Celem jest maksymalizacja wskaźnika 𝐶, więc minimalizujemy jego negację.\n",
    "- Wynik: Otrzymujemy optymalne wartości zmiennych decyzyjnych oraz odpowiadające im wartości funkcji celu i funkcji skoringowej."
   ]
  },
  {
   "cell_type": "markdown",
   "metadata": {},
   "source": [
    "# Problem Dyskretny: 3-Kryterialny\n",
    "\n",
    "Mamy zbiór dyskretnych alternatyw ocenianych według trzech kryteriów. Naszym celem jest uszeregowanie tych alternatyw na podstawie funkcji skoringowej."
   ]
  },
  {
   "cell_type": "code",
   "execution_count": 7,
   "metadata": {},
   "outputs": [
    {
     "name": "stdout",
     "output_type": "stream",
     "text": [
      "Ranking alternatyw:\n",
      "Alternatywa 3: Kryteria = [6 6 7], Score = 0.6319\n",
      "Alternatywa 1: Kryteria = [5 7 6], Score = 0.5661\n",
      "Alternatywa 8: Kryteria = [6 5 7], Score = 0.5640\n",
      "Alternatywa 5: Kryteria = [4 5 8], Score = 0.5228\n",
      "Alternatywa 7: Kryteria = [5 6 6], Score = 0.5000\n",
      "Alternatywa 6: Kryteria = [7 4 5], Score = 0.4519\n",
      "Alternatywa 2: Kryteria = [3 8 5], Score = 0.4360\n",
      "Alternatywa 4: Kryteria = [2 9 4], Score = 0.4142\n"
     ]
    }
   ],
   "source": [
    "import numpy as np\n",
    "\n",
    "# Lista alternatyw (rozwiązań)\n",
    "alternatives = np.array([\n",
    "    [5, 7, 6],\n",
    "    [3, 8, 5],\n",
    "    [6, 6, 7],\n",
    "    [2, 9, 4],\n",
    "    [4, 5, 8],\n",
    "    [7, 4, 5],\n",
    "    [5, 6, 6],\n",
    "    [6, 5, 7]\n",
    "])\n",
    "\n",
    "# Punkty odniesienia\n",
    "a = np.array([7, 9, 8])  # Punkt aspiracji\n",
    "b = np.array([2, 4, 4])  # Punkt status quo\n",
    "\n",
    "# Normalizacja alternatyw\n",
    "def normalize(alternatives, a, b):\n",
    "    return (alternatives - b) / (a - b)\n",
    "\n",
    "# Funkcja skoringowa\n",
    "def scoring_function(alternatives, a, b):\n",
    "    norm_alt = normalize(alternatives, a, b)\n",
    "    distance_to_a = np.linalg.norm(norm_alt - np.ones((len(alternatives), len(a))), axis=1)\n",
    "    distance_to_b = np.linalg.norm(norm_alt - np.zeros((len(alternatives), len(a))), axis=1)\n",
    "    C = distance_to_b / (distance_to_a + distance_to_b)\n",
    "    return C\n",
    "\n",
    "# Obliczanie wartości funkcji skoringowej\n",
    "scores = scoring_function(alternatives, a, b)\n",
    "\n",
    "# Tworzenie rankingu\n",
    "ranking = np.argsort(-scores)  # Negacja, bo sortujemy malejąco\n",
    "\n",
    "print(\"Ranking alternatyw:\")\n",
    "for idx in ranking:\n",
    "    print(f\"Alternatywa {idx + 1}: Kryteria = {alternatives[idx]}, Score = {scores[idx]:.4f}\")\n"
   ]
  },
  {
   "cell_type": "markdown",
   "metadata": {},
   "source": [
    "## Wyjaśnienie:\n",
    "\n",
    "- Alternatywy: Zbiór dyskretnych rozwiązań ocenianych według trzech kryteriów.\n",
    "- Normalizacja: Przekształcamy wartości kryteriów do przedziału [0,1] na podstawie punktów odniesienia.\n",
    "- Funkcja skoringowa: Obliczamy wskaźnik 𝐶 dla każdej alternatywy.\n",
    "- Ranking: Sortujemy alternatywy według wartości wskaźnika 𝐶."
   ]
  },
  {
   "cell_type": "markdown",
   "metadata": {},
   "source": [
    "# Problem Dyskretny: 4-Kryterialny"
   ]
  },
  {
   "cell_type": "code",
   "execution_count": 8,
   "metadata": {},
   "outputs": [
    {
     "name": "stdout",
     "output_type": "stream",
     "text": [
      "Ranking alternatyw:\n",
      "Alternatywa 3: Kryteria = [6 6 7 7], Score = 0.6396\n",
      "Alternatywa 7: Kryteria = [5 6 6 7], Score = 0.5400\n",
      "Alternatywa 6: Kryteria = [7 4 5 8], Score = 0.5346\n",
      "Alternatywa 8: Kryteria = [6 5 7 6], Score = 0.5164\n",
      "Alternatywa 5: Kryteria = [4 5 8 6], Score = 0.4879\n",
      "Alternatywa 1: Kryteria = [5 7 6 5], Score = 0.4401\n",
      "Alternatywa 2: Kryteria = [3 8 5 6], Score = 0.4157\n",
      "Alternatywa 4: Kryteria = [2 9 4 5], Score = 0.3660\n"
     ]
    }
   ],
   "source": [
    "import numpy as np\n",
    "\n",
    "# Lista alternatyw (rozwiązań)\n",
    "alternatives = np.array([\n",
    "    [5, 7, 6, 5],\n",
    "    [3, 8, 5, 6],\n",
    "    [6, 6, 7, 7],\n",
    "    [2, 9, 4, 5],\n",
    "    [4, 5, 8, 6],\n",
    "    [7, 4, 5, 8],\n",
    "    [5, 6, 6, 7],\n",
    "    [6, 5, 7, 6]\n",
    "])\n",
    "\n",
    "# Punkty odniesienia\n",
    "a = np.array([7, 9, 8, 8])  # Punkt aspiracji\n",
    "b = np.array([2, 4, 4, 5])  # Punkt status quo\n",
    "\n",
    "# Normalizacja alternatyw\n",
    "def normalize(alternatives, a, b):\n",
    "    return (alternatives - b) / (a - b)\n",
    "\n",
    "# Funkcja skoringowa\n",
    "def scoring_function(alternatives, a, b):\n",
    "    norm_alt = normalize(alternatives, a, b)\n",
    "    distance_to_a = np.linalg.norm(norm_alt - np.ones((len(alternatives), len(a))), axis=1)\n",
    "    distance_to_b = np.linalg.norm(norm_alt - np.zeros((len(alternatives), len(a))), axis=1)\n",
    "    C = distance_to_b / (distance_to_a + distance_to_b)\n",
    "    return C\n",
    "\n",
    "# Obliczanie wartości funkcji skoringowej\n",
    "scores = scoring_function(alternatives, a, b)\n",
    "\n",
    "# Tworzenie rankingu\n",
    "ranking = np.argsort(-scores)  # Negacja, bo sortujemy malejąco\n",
    "\n",
    "print(\"Ranking alternatyw:\")\n",
    "for idx in ranking:\n",
    "    print(f\"Alternatywa {idx + 1}: Kryteria = {alternatives[idx]}, Score = {scores[idx]:.4f}\")\n"
   ]
  },
  {
   "cell_type": "markdown",
   "metadata": {},
   "source": [
    "## Wyjaśnienie:\n",
    "\n",
    "- Dodatkowe Kryterium: Uwzględniamy czwarte kryterium w ocenie alternatyw.\n",
    "- Funkcja Skoringowa: Analogicznie do przypadku 3-kryterialnego, ale z uwzględnieniem dodatkowego kryterium.\n",
    "- Ranking: Otrzymujemy uszeregowanie alternatyw według zaktualizowanej funkcji skoringowej."
   ]
  },
  {
   "cell_type": "code",
   "execution_count": null,
   "metadata": {},
   "outputs": [],
   "source": []
  }
 ],
 "metadata": {
  "kernelspec": {
   "display_name": "base",
   "language": "python",
   "name": "python3"
  },
  "language_info": {
   "codemirror_mode": {
    "name": "ipython",
    "version": 3
   },
   "file_extension": ".py",
   "mimetype": "text/x-python",
   "name": "python",
   "nbconvert_exporter": "python",
   "pygments_lexer": "ipython3",
   "version": "3.12.4"
  }
 },
 "nbformat": 4,
 "nbformat_minor": 0
}
