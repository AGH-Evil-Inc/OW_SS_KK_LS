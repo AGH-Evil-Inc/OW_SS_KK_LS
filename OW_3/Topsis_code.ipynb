{
 "cells": [
  {
   "cell_type": "code",
   "execution_count": 1,
   "metadata": {
    "collapsed": true,
    "pycharm": {
     "name": "#%%\n"
    }
   },
   "outputs": [],
   "source": [
    "import numpy as np\n",
    "\n",
    "def topsis(decision_matrix, weights, criteria):\n",
    "    \"\"\"\n",
    "    Implementation of the TOPSIS method for multicriteria decision analysis in discrete form.\n",
    "\n",
    "    Parameters:\n",
    "    decision_matrix (ndarray): Matrix (m x n) with m alternatives and n criteria.\n",
    "    weights (list or ndarray): Weights for each criterion.\n",
    "    criteria (list or ndarray): A list specifying whether each criterion should be maximized (1) or minimized (-1).\n",
    "\n",
    "    Returns:\n",
    "    tuple: Ranking of alternatives and their respective scores.\n",
    "    \"\"\"\n",
    "    # Step 1: Normalize the decision matrix\n",
    "    norm_matrix = decision_matrix / np.sqrt((decision_matrix ** 2).sum(axis=0))\n",
    "\n",
    "    # Step 2: Apply weights to the normalized matrix\n",
    "    weighted_matrix = norm_matrix * weights\n",
    "\n",
    "    # Step 3: Determine the ideal (best) and anti-ideal (worst) solutions\n",
    "    ideal_best = np.max(weighted_matrix, axis=0) * (criteria == 1) + np.min(weighted_matrix, axis=0) * (criteria == -1)\n",
    "    ideal_worst = np.min(weighted_matrix, axis=0) * (criteria == 1) + np.max(weighted_matrix, axis=0) * (criteria == -1)\n",
    "\n",
    "    # Step 4: Calculate distances from the ideal and anti-ideal solutions\n",
    "    dist_to_ideal = np.sqrt(((weighted_matrix - ideal_best) ** 2).sum(axis=1))\n",
    "    dist_to_worst = np.sqrt(((weighted_matrix - ideal_worst) ** 2).sum(axis=1))\n",
    "\n",
    "    # Step 5: Calculate the score for each alternative\n",
    "    score = dist_to_worst / (dist_to_ideal + dist_to_worst)\n",
    "\n",
    "    # Step 6: Rank the alternatives\n",
    "    ranking = np.argsort(score)[::-1]  # Sort in descending order by score\n",
    "    return ranking, score"
   ]
  }
 ],
 "metadata": {
  "kernelspec": {
   "display_name": "Python 3",
   "language": "python",
   "name": "python3"
  },
  "language_info": {
   "codemirror_mode": {
    "name": "ipython",
    "version": 2
   },
   "file_extension": ".py",
   "mimetype": "text/x-python",
   "name": "python",
   "nbconvert_exporter": "python",
   "pygments_lexer": "ipython2",
   "version": "2.7.6"
  }
 },
 "nbformat": 4,
 "nbformat_minor": 0
}