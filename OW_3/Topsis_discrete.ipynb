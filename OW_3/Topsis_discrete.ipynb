{
 "cells": [
  {
   "cell_type": "code",
   "execution_count": 1,
   "outputs": [],
   "source": [
    "import numpy as np"
   ],
   "metadata": {
    "collapsed": false,
    "pycharm": {
     "name": "#%%\n"
    }
   }
  },
  {
   "cell_type": "code",
   "execution_count": 2,
   "outputs": [],
   "source": [
    "def topsis(decision_matrix, weights, criteria):\n",
    "    \"\"\"\n",
    "    Implementation of the TOPSIS method for multicriteria decision analysis in discrete form.\n",
    "\n",
    "    Parameters:\n",
    "    decision_matrix (ndarray): Matrix (m x n) with m alternatives and n criteria.\n",
    "    weights (list or ndarray): Weights for each criterion.\n",
    "    criteria (list or ndarray): A list specifying whether each criterion should be maximized (1) or minimized (-1).\n",
    "\n",
    "    Returns:\n",
    "    tuple: Ranking of alternatives and their respective scores.\n",
    "    \"\"\"\n",
    "    # Step 1: Normalize the decision matrix\n",
    "    norm_matrix = decision_matrix / np.sqrt((decision_matrix ** 2).sum(axis=0))\n",
    "\n",
    "    # Step 2: Apply weights to the normalized matrix\n",
    "    weighted_matrix = norm_matrix * weights\n",
    "\n",
    "    # Step 3: Determine the ideal (best) and anti-ideal (worst) solutions\n",
    "    ideal_best = np.max(weighted_matrix, axis=0) * (criteria == 1) + np.min(weighted_matrix, axis=0) * (criteria == -1)\n",
    "    ideal_worst = np.min(weighted_matrix, axis=0) * (criteria == 1) + np.max(weighted_matrix, axis=0) * (criteria == -1)\n",
    "\n",
    "    # Step 4: Calculate distances from the ideal and anti-ideal solutions\n",
    "    dist_to_ideal = np.sqrt(((weighted_matrix - ideal_best) ** 2).sum(axis=1))\n",
    "    dist_to_worst = np.sqrt(((weighted_matrix - ideal_worst) ** 2).sum(axis=1))\n",
    "\n",
    "    # Step 5: Calculate the score for each alternative\n",
    "    score = dist_to_worst / (dist_to_ideal + dist_to_worst)\n",
    "\n",
    "    # Step 6: Rank the alternatives\n",
    "    ranking = np.argsort(score)[::-1]  # Sort in descending order by score\n",
    "    return ranking, score"
   ],
   "metadata": {
    "collapsed": false,
    "pycharm": {
     "name": "#%%\n"
    }
   }
  },
  {
   "cell_type": "code",
   "execution_count": 3,
   "outputs": [
    {
     "name": "stdout",
     "output_type": "stream",
     "text": [
      "\n",
      "Ranking of alternatives:\n",
      "| Alternative | Score  | Rank  |\n",
      "|-------------|--------|-------|\n",
      "| Alternative 3  | 0.8435 | 1     |\n",
      "| Alternative 4  | 0.6211 | 2     |\n",
      "| Alternative 5  | 0.3993 | 3     |\n",
      "| Alternative 1  | 0.2976 | 4     |\n",
      "| Alternative 2  | 0.1565 | 5     |\n"
     ]
    }
   ],
   "source": [
    "decision_matrix = np.array([\n",
    "    [250, 16, 12, 5],\n",
    "    [200, 16, 8, 3],\n",
    "    [300, 32, 16, 4],\n",
    "    [275, 32, 8, 4],\n",
    "    [225, 16, 16, 2]\n",
    "])\n",
    "\n",
    "weights = np.array([0.4, 0.3, 0.2, 0.1])\n",
    "criteria = np.array([1, 1, 1, -1])\n",
    "\n",
    "ranking, score = topsis(decision_matrix, weights, criteria)\n",
    "\n",
    "print(\"\\nRanking of alternatives:\")\n",
    "print(\"| Alternative | Score  | Rank  |\")\n",
    "print(\"|-------------|--------|-------|\")\n",
    "for i, alternative in enumerate(ranking):\n",
    "    print(f\"| Alternative {alternative + 1:<2} | {score[alternative]:<6.4f} | {i + 1:<5} |\")"
   ],
   "metadata": {
    "collapsed": false,
    "pycharm": {
     "name": "#%%\n"
    }
   }
  },
  {
   "cell_type": "code",
   "execution_count": 4,
   "outputs": [],
   "source": [
    "def test_topsis():\n",
    "    # Test case 1: Basic example\n",
    "    decision_matrix = np.array([\n",
    "        [250, 16, 12, 5],\n",
    "        [200, 16, 8, 3],\n",
    "        [300, 32, 16, 4],\n",
    "        [275, 32, 8, 4],\n",
    "        [225, 16, 16, 2]\n",
    "    ])\n",
    "    weights = np.array([0.4, 0.3, 0.2, 0.1])\n",
    "    criteria = np.array([1, 1, 1, -1])\n",
    "    ranking, score = topsis(decision_matrix, weights, criteria)\n",
    "    print(\"\\nTest case 1 - Results:\")\n",
    "    print(\"| Alternative | Score  | Rank  |\")\n",
    "    print(\"|-------------|--------|-------|\")\n",
    "    for i, alternative in enumerate(ranking):\n",
    "        print(f\"| Alternative {alternative + 1:<2} | {score[alternative]:<6.4f} | {i + 1:<5} |\")\n",
    "    assert ranking[0] == 2, \"Test case 1 failed: Expected ranking[0] == 2\"\n",
    "    assert np.isclose(score[2], score.max(),\n",
    "                      atol=0.01), f\"Test case 1 failed: Expected score[2] to be close to max(score), but got score[2] = {score[2]} and max(score) = {score.max()}\"\n",
    "\n",
    "    # Test case 2: All criteria to maximize\n",
    "    decision_matrix = np.array([\n",
    "        [10, 20, 30],\n",
    "        [20, 30, 40],\n",
    "        [30, 10, 20]\n",
    "    ])\n",
    "    weights = np.array([0.3, 0.4, 0.3])\n",
    "    criteria = np.array([1, 1, 1])\n",
    "    ranking, score = topsis(decision_matrix, weights, criteria)\n",
    "    print(\"\\nTest case 2 - Results:\")\n",
    "    print(\"| Alternative | Score  | Rank  |\")\n",
    "    print(\"|-------------|--------|-------|\")\n",
    "    for i, alternative in enumerate(ranking):\n",
    "        print(f\"| Alternative {alternative + 1:<2} | {score[alternative]:<6.4f} | {i + 1:<5} |\")\n",
    "    assert ranking[0] == 1, \"Test case 2 failed: Expected ranking[0] == 1\"\n",
    "\n",
    "    # Test case 3: All criteria to minimize\n",
    "    decision_matrix = np.array([\n",
    "        [10, 20, 30],\n",
    "        [20, 30, 40],\n",
    "        [30, 10, 20]\n",
    "    ])\n",
    "    weights = np.array([0.3, 0.4, 0.3])\n",
    "    criteria = np.array([-1, -1, -1])\n",
    "    ranking, score = topsis(decision_matrix, weights, criteria)\n",
    "    print(\"\\nTest case 3 - Results:\")\n",
    "    print(\"| Alternative | Score  | Rank  |\")\n",
    "    print(\"|-------------|--------|-------|\")\n",
    "    for i, alternative in enumerate(ranking):\n",
    "        print(f\"| Alternative {alternative + 1:<2} | {score[alternative]:<6.4f} | {i + 1:<5} |\")\n",
    "    assert ranking[0] == 0, \"Test case 3 failed: Expected ranking[0] == 0\"\n",
    "\n",
    "    print(\"\\nAll test cases passed!\")"
   ],
   "metadata": {
    "collapsed": false,
    "pycharm": {
     "name": "#%%\n"
    }
   }
  },
  {
   "cell_type": "code",
   "execution_count": 5,
   "outputs": [
    {
     "name": "stdout",
     "output_type": "stream",
     "text": [
      "\n",
      "Test case 1 - Results:\n",
      "| Alternative | Score  | Rank  |\n",
      "|-------------|--------|-------|\n",
      "| Alternative 3  | 0.8435 | 1     |\n",
      "| Alternative 4  | 0.6211 | 2     |\n",
      "| Alternative 5  | 0.3993 | 3     |\n",
      "| Alternative 1  | 0.2976 | 4     |\n",
      "| Alternative 2  | 0.1565 | 5     |\n",
      "\n",
      "Test case 2 - Results:\n",
      "| Alternative | Score  | Rank  |\n",
      "|-------------|--------|-------|\n",
      "| Alternative 2  | 0.7601 | 1     |\n",
      "| Alternative 3  | 0.3994 | 2     |\n",
      "| Alternative 1  | 0.3754 | 3     |\n",
      "\n",
      "Test case 3 - Results:\n",
      "| Alternative | Score  | Rank  |\n",
      "|-------------|--------|-------|\n",
      "| Alternative 1  | 0.6246 | 1     |\n",
      "| Alternative 3  | 0.6006 | 2     |\n",
      "| Alternative 2  | 0.2399 | 3     |\n",
      "\n",
      "All test cases passed!\n"
     ]
    }
   ],
   "source": [
    "test_topsis()"
   ],
   "metadata": {
    "collapsed": false,
    "pycharm": {
     "name": "#%%\n"
    }
   }
  },
  {
   "cell_type": "code",
   "execution_count": 2,
   "outputs": [],
   "source": [
    "def topsis(decision_matrix, weights, criteria):\n",
    "    \"\"\"\n",
    "    Implementation of the TOPSIS method for multicriteria decision analysis in discrete form.\n",
    "\n",
    "    Parameters:\n",
    "    decision_matrix (ndarray): Matrix (m x n) with m alternatives and n criteria.\n",
    "    weights (list or ndarray): Weights for each criterion.\n",
    "    criteria (list or ndarray): A list specifying whether each criterion should be maximized (1) or minimized (-1).\n",
    "\n",
    "    Returns:\n",
    "    tuple: Ranking of alternatives and their respective scores.\n",
    "    \"\"\"\n",
    "    # Step 1: Normalize the decision matrix\n",
    "    norm_matrix = decision_matrix / np.sqrt((decision_matrix ** 2).sum(axis=0))\n",
    "\n",
    "    # Step 2: Apply weights to the normalized matrix\n",
    "    weighted_matrix = norm_matrix * weights\n",
    "\n",
    "    # Step 3: Determine the ideal (best) and anti-ideal (worst) solutions\n",
    "    ideal_best = np.max(weighted_matrix, axis=0) * (criteria == 1) + np.min(weighted_matrix, axis=0) * (criteria == -1)\n",
    "    ideal_worst = np.min(weighted_matrix, axis=0) * (criteria == 1) + np.max(weighted_matrix, axis=0) * (criteria == -1)\n",
    "\n",
    "    # Step 4: Calculate distances from the ideal and anti-ideal solutions\n",
    "    dist_to_ideal = np.sqrt(((weighted_matrix - ideal_best) ** 2).sum(axis=1))\n",
    "    dist_to_worst = np.sqrt(((weighted_matrix - ideal_worst) ** 2).sum(axis=1))\n",
    "\n",
    "    # Step 5: Calculate the score for each alternative\n",
    "    score = dist_to_worst / (dist_to_ideal + dist_to_worst)\n",
    "\n",
    "    # Step 6: Rank the alternatives\n",
    "    ranking = np.argsort(score)[::-1]  # Sort in descending order by score\n",
    "    return ranking, score"
   ],
   "metadata": {
    "collapsed": false,
    "pycharm": {
     "name": "#%%\n"
    }
   }
  },
  {
   "cell_type": "code",
   "execution_count": 3,
   "outputs": [
    {
     "name": "stdout",
     "output_type": "stream",
     "text": [
      "\n",
      "Ranking of alternatives:\n",
      "| Alternative | Score  | Rank  |\n",
      "|-------------|--------|-------|\n",
      "| Alternative 3  | 0.8435 | 1     |\n",
      "| Alternative 4  | 0.6211 | 2     |\n",
      "| Alternative 5  | 0.3993 | 3     |\n",
      "| Alternative 1  | 0.2976 | 4     |\n",
      "| Alternative 2  | 0.1565 | 5     |\n"
     ]
    }
   ],
   "source": [
    "decision_matrix = np.array([\n",
    "    [250, 16, 12, 5],\n",
    "    [200, 16, 8, 3],\n",
    "    [300, 32, 16, 4],\n",
    "    [275, 32, 8, 4],\n",
    "    [225, 16, 16, 2]\n",
    "])\n",
    "\n",
    "weights = np.array([0.4, 0.3, 0.2, 0.1])\n",
    "criteria = np.array([1, 1, 1, -1])\n",
    "\n",
    "ranking, score = topsis(decision_matrix, weights, criteria)\n",
    "\n",
    "print(\"\\nRanking of alternatives:\")\n",
    "print(\"| Alternative | Score  | Rank  |\")\n",
    "print(\"|-------------|--------|-------|\")\n",
    "for i, alternative in enumerate(ranking):\n",
    "    print(f\"| Alternative {alternative + 1:<2} | {score[alternative]:<6.4f} | {i + 1:<5} |\")"
   ],
   "metadata": {
    "collapsed": false,
    "pycharm": {
     "name": "#%%\n"
    }
   }
  },
  {
   "cell_type": "code",
   "execution_count": 4,
   "outputs": [],
   "source": [
    "def test_topsis():\n",
    "    # Test case 1: Basic example\n",
    "    decision_matrix = np.array([\n",
    "        [250, 16, 12, 5],\n",
    "        [200, 16, 8, 3],\n",
    "        [300, 32, 16, 4],\n",
    "        [275, 32, 8, 4],\n",
    "        [225, 16, 16, 2]\n",
    "    ])\n",
    "    weights = np.array([0.4, 0.3, 0.2, 0.1])\n",
    "    criteria = np.array([1, 1, 1, -1])\n",
    "    ranking, score = topsis(decision_matrix, weights, criteria)\n",
    "    print(\"\\nTest case 1 - Results:\")\n",
    "    print(\"| Alternative | Score  | Rank  |\")\n",
    "    print(\"|-------------|--------|-------|\")\n",
    "    for i, alternative in enumerate(ranking):\n",
    "        print(f\"| Alternative {alternative + 1:<2} | {score[alternative]:<6.4f} | {i + 1:<5} |\")\n",
    "    assert ranking[0] == 2, \"Test case 1 failed: Expected ranking[0] == 2\"\n",
    "    assert np.isclose(score[2], score.max(),\n",
    "                      atol=0.01), f\"Test case 1 failed: Expected score[2] to be close to max(score), but got score[2] = {score[2]} and max(score) = {score.max()}\"\n",
    "\n",
    "    # Test case 2: All criteria to maximize\n",
    "    decision_matrix = np.array([\n",
    "        [10, 20, 30],\n",
    "        [20, 30, 40],\n",
    "        [30, 10, 20]\n",
    "    ])\n",
    "    weights = np.array([0.3, 0.4, 0.3])\n",
    "    criteria = np.array([1, 1, 1])\n",
    "    ranking, score = topsis(decision_matrix, weights, criteria)\n",
    "    print(\"\\nTest case 2 - Results:\")\n",
    "    print(\"| Alternative | Score  | Rank  |\")\n",
    "    print(\"|-------------|--------|-------|\")\n",
    "    for i, alternative in enumerate(ranking):\n",
    "        print(f\"| Alternative {alternative + 1:<2} | {score[alternative]:<6.4f} | {i + 1:<5} |\")\n",
    "    assert ranking[0] == 1, \"Test case 2 failed: Expected ranking[0] == 1\"\n",
    "\n",
    "    # Test case 3: All criteria to minimize\n",
    "    decision_matrix = np.array([\n",
    "        [10, 20, 30],\n",
    "        [20, 30, 40],\n",
    "        [30, 10, 20]\n",
    "    ])\n",
    "    weights = np.array([0.3, 0.4, 0.3])\n",
    "    criteria = np.array([-1, -1, -1])\n",
    "    ranking, score = topsis(decision_matrix, weights, criteria)\n",
    "    print(\"\\nTest case 3 - Results:\")\n",
    "    print(\"| Alternative | Score  | Rank  |\")\n",
    "    print(\"|-------------|--------|-------|\")\n",
    "    for i, alternative in enumerate(ranking):\n",
    "        print(f\"| Alternative {alternative + 1:<2} | {score[alternative]:<6.4f} | {i + 1:<5} |\")\n",
    "    assert ranking[0] == 0, \"Test case 3 failed: Expected ranking[0] == 0\"\n",
    "\n",
    "    print(\"\\nAll test cases passed!\")"
   ],
   "metadata": {
    "collapsed": false,
    "pycharm": {
     "name": "#%%\n"
    }
   }
  },
  {
   "cell_type": "code",
   "execution_count": 5,
   "outputs": [
    {
     "name": "stdout",
     "output_type": "stream",
     "text": [
      "\n",
      "Test case 1 - Results:\n",
      "| Alternative | Score  | Rank  |\n",
      "|-------------|--------|-------|\n",
      "| Alternative 3  | 0.8435 | 1     |\n",
      "| Alternative 4  | 0.6211 | 2     |\n",
      "| Alternative 5  | 0.3993 | 3     |\n",
      "| Alternative 1  | 0.2976 | 4     |\n",
      "| Alternative 2  | 0.1565 | 5     |\n",
      "\n",
      "Test case 2 - Results:\n",
      "| Alternative | Score  | Rank  |\n",
      "|-------------|--------|-------|\n",
      "| Alternative 2  | 0.7601 | 1     |\n",
      "| Alternative 3  | 0.3994 | 2     |\n",
      "| Alternative 1  | 0.3754 | 3     |\n",
      "\n",
      "Test case 3 - Results:\n",
      "| Alternative | Score  | Rank  |\n",
      "|-------------|--------|-------|\n",
      "| Alternative 1  | 0.6246 | 1     |\n",
      "| Alternative 3  | 0.6006 | 2     |\n",
      "| Alternative 2  | 0.2399 | 3     |\n",
      "\n",
      "All test cases passed!\n"
     ]
    }
   ],
   "source": [
    "test_topsis()"
   ],
   "metadata": {
    "collapsed": false,
    "pycharm": {
     "name": "#%%\n"
    }
   }
  }
 ],
 "metadata": {
  "kernelspec": {
   "display_name": "Python 3",
   "language": "python",
   "name": "python3"
  },
  "language_info": {
   "codemirror_mode": {
    "name": "ipython",
    "version": 2
   },
   "file_extension": ".py",
   "mimetype": "text/x-python",
   "name": "python",
   "nbconvert_exporter": "python",
   "pygments_lexer": "ipython2",
   "version": "2.7.6"
  }
 },
 "nbformat": 4,
 "nbformat_minor": 0
}