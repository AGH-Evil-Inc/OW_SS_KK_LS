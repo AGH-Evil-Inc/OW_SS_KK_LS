{
 "cells": [
  {
   "cell_type": "markdown",
   "metadata": {},
   "source": [
    "## Implementacja metody UTAstar dyskretnej"
   ]
  },
  {
   "cell_type": "code",
   "execution_count": 1,
   "metadata": {
    "collapsed": true,
    "pycharm": {
     "name": "#%%\n"
    }
   },
   "outputs": [
    {
     "name": "stdout",
     "output_type": "stream",
     "text": [
      "Najlepsza alternatywa (dyskretna): [80 90] z funkcją użyteczności [1.5 1.5]\n"
     ]
    }
   ],
   "source": [
    "import numpy as np\n",
    "from scipy.interpolate import interp1d\n",
    "\n",
    "# Funkcja do wyznaczania funkcji użyteczności dla wersji dyskretnej\n",
    "def UTA_function_discrete(values, reference_points, lambda_param=1):\n",
    "    \"\"\"\n",
    "    Aproksymuje funkcje użyteczności dla wersji dyskretnej.\n",
    "    \n",
    "    :param values: Lista wartości alternatyw w przestrzeni kryteriów\n",
    "    :param reference_points: Lista punktów referencyjnych (najlepszy, najgorszy, neutralny)\n",
    "    :param lambda_param: Współczynnik λ (preferencje decydenta)\n",
    "    :return: Lista funkcji użyteczności dla wszystkich alternatyw\n",
    "    \"\"\"\n",
    "    utility_values = []\n",
    "    \n",
    "    # Iterujemy przez alternatywy\n",
    "    for val in values:\n",
    "        alternative_utility = []\n",
    "        \n",
    "        # Iterujemy przez każde kryterium\n",
    "        for i in range(len(val)):\n",
    "            ref_values = [ref[i] for ref in reference_points]  # Zbiór punktów referencyjnych dla kryterium i\n",
    "            # Interpolacja liniowa dla każdego kryterium\n",
    "            interp_func = interp1d(ref_values, [0, 1, 0], kind='linear', fill_value=\"extrapolate\")\n",
    "            utility_value = interp_func(val[i]) * lambda_param  # Użycie λ\n",
    "            alternative_utility.append(utility_value)\n",
    "        \n",
    "        utility_values.append(alternative_utility)\n",
    "    \n",
    "    return np.array(utility_values)\n",
    "\n",
    "# Funkcja do porównania alternatyw (dyskretna wersja)\n",
    "def UTAstar_discrete(values, reference_points, lambda_param=1):\n",
    "    \"\"\"\n",
    "    Metoda UTA Star dla wersji dyskretnej (wielokryterialnej) uwzględniająca preferencje decydenta.\n",
    "    \n",
    "    :param values: Lista wartości alternatyw w przestrzeni kryteriów\n",
    "    :param reference_points: Lista punktów referencyjnych dla każdego kryterium\n",
    "    :param lambda_param: Współczynnik λ (preferencje decydenta)\n",
    "    :return: Wybrana alternatywa\n",
    "    \"\"\"\n",
    "    # Wyznaczanie funkcji użyteczności\n",
    "    utility_values = UTA_function_discrete(values, reference_points, lambda_param)\n",
    "    \n",
    "    # Wybór rozwiązania kompromisowego - wybieramy alternatywę z maksymalną sumą użyteczności\n",
    "    summed_utility = np.sum(utility_values, axis=1)\n",
    "    best_solution_idx = np.argmax(summed_utility)  # Wybieramy alternatywę z największą sumą funkcji użyteczności\n",
    "    return best_solution_idx, utility_values\n",
    "\n",
    "# Przykład użycia (wersja dyskretna)\n",
    "values_discrete = np.array([[20, 30], [50, 60], [80, 90], [35, 45], [65, 70]])  # Przykładowe wartości alternatyw\n",
    "reference_points_discrete = np.array([[20, 30], [80, 90], [50, 60]])  # Punkty referencyjne (najlepszy, najgorszy, neutralny)\n",
    "lambda_param = 1.5  # Przykładowy współczynnik λ (preferencje decydenta)\n",
    "best_solution_discrete_idx, utility_values_discrete = UTAstar_discrete(values_discrete, reference_points_discrete, lambda_param=lambda_param)\n",
    "\n",
    "print(f\"Najlepsza alternatywa (dyskretna): {values_discrete[best_solution_discrete_idx]} z funkcją użyteczności {utility_values_discrete[best_solution_discrete_idx]}\")\n"
   ]
  },
  {
   "cell_type": "markdown",
   "metadata": {},
   "source": [
    "## Implementacja UTAstar ciągłej"
   ]
  },
  {
   "cell_type": "code",
   "execution_count": 2,
   "metadata": {},
   "outputs": [
    {
     "name": "stdout",
     "output_type": "stream",
     "text": [
      "Najlepsza alternatywa (ciągła): [43.79016634 69.04219988] z funkcją użyteczności [1.18950832 1.04789001]\n"
     ]
    }
   ],
   "source": [
    "import numpy as np\n",
    "from scipy.interpolate import interp1d\n",
    "\n",
    "# Funkcja do wyznaczania funkcji użyteczności (ciągła wersja z preferencjami)\n",
    "def UTA_function_continuous(values, reference_points, lambda_param=1, use_polynomial=False):\n",
    "    \"\"\"\n",
    "    Aproksymuje funkcje użyteczności w przestrzeni ciągłej dla wielu kryteriów.\n",
    "    Uwzględnia preferencje decydenta przez współczynnik λ i punkty referencyjne.\n",
    "    \n",
    "    :param values: Lista wartości kryteriów dla alternatyw\n",
    "    :param reference_points: Lista punktów referencyjnych (np. [najlepszy, najgorszy, neutralny])\n",
    "    :param lambda_param: Współczynnik λ (preferencje decydenta)\n",
    "    :param use_polynomial: Jeśli True, stosuje aproksymację wielomianową, w przeciwnym razie interpolację\n",
    "    :return: Funkcje użyteczności\n",
    "    \"\"\"\n",
    "    utility_values = []\n",
    "    for i in range(len(reference_points[0])):  # Iterujemy po kryteriach\n",
    "        ref_values = [ref[i] for ref in reference_points]  # Zbiór punktów referencyjnych dla kryterium i\n",
    "        if use_polynomial:\n",
    "            # Przy użyciu funkcji aproksymacji wielomianowej\n",
    "            coef = np.polyfit(ref_values, [0, 1, 0], 2)  # Przykład: funkcja kwadratowa\n",
    "            poly_func = np.poly1d(coef)\n",
    "            utility_values.append(poly_func(values[:, i]) * lambda_param)  # Użycie λ\n",
    "        else:\n",
    "            # Interpolacja liniowa\n",
    "            interp_func = interp1d(ref_values, [0, 1, 0], kind='linear', fill_value=\"extrapolate\")\n",
    "            utility_values.append(interp_func(values[:, i]) * lambda_param)  # Użycie λ\n",
    "    return np.array(utility_values).T  # Zwracamy funkcje użyteczności dla wszystkich alternatyw\n",
    "\n",
    "# Funkcja do porównania alternatyw (ciągła wersja z uwzględnieniem preferencji)\n",
    "def UTAstar_continuous(values, reference_points, lambda_param=1, use_polynomial=False):\n",
    "    \"\"\"\n",
    "    Metoda UTA Star dla wersji ciągłej (wielokryterialnej) uwzględniająca preferencje decydenta.\n",
    "    \n",
    "    :param values: Lista wartości alternatyw w przestrzeni kryteriów\n",
    "    :param reference_points: Lista punktów referencyjnych dla każdego kryterium\n",
    "    :param lambda_param: Współczynnik λ (preferencje decydenta)\n",
    "    :param use_polynomial: Jeśli True, stosuje aproksymację wielomianową, w przeciwnym razie interpolację\n",
    "    :return: Wybrana alternatywa\n",
    "    \"\"\"\n",
    "    # Wyznaczanie funkcji użyteczności\n",
    "    utility_values = UTA_function_continuous(values, reference_points, lambda_param, use_polynomial)\n",
    "    \n",
    "    # Wybór rozwiązania kompromisowego - wybieramy alternatywę z maksymalną sumą użyteczności\n",
    "    summed_utility = np.sum(utility_values, axis=1)\n",
    "    best_solution = np.argmax(summed_utility)  # Wybieramy alternatywę z największą sumą funkcji użyteczności\n",
    "    return best_solution, utility_values\n",
    "\n",
    "# Przykład użycia (ciągła wersja)\n",
    "values_continuous = np.random.uniform(0, 100, (10, 2))  # Przykładowe wartości alternatyw w przestrzeni 2 kryteriów\n",
    "reference_points_continuous = np.array([[20, 30], [50, 60], [80, 90]])  # Punkty referencyjne w przestrzeni 2 kryteriów\n",
    "lambda_param = 1.5  # Przykładowy współczynnik λ (preferencje decydenta)\n",
    "best_solution_continuous, utility_values_continuous = UTAstar_continuous(values_continuous, reference_points_continuous, lambda_param=lambda_param)\n",
    "print(f\"Najlepsza alternatywa (ciągła): {values_continuous[best_solution_continuous]} z funkcją użyteczności {utility_values_continuous[best_solution_continuous]}\")\n"
   ]
  },
  {
   "cell_type": "markdown",
   "metadata": {},
   "source": [
    "# Testy obliczeniowe"
   ]
  },
  {
   "cell_type": "markdown",
   "metadata": {},
   "source": [
    "## Testy Dyskretne"
   ]
  },
  {
   "cell_type": "markdown",
   "metadata": {},
   "source": [
    "### Dyskretne 3-wymiarowe"
   ]
  },
  {
   "cell_type": "code",
   "execution_count": 3,
   "metadata": {},
   "outputs": [
    {
     "name": "stdout",
     "output_type": "stream",
     "text": [
      "Najlepsza alternatywa (dyskretna, 3D): [ 80  90 100] z funkcją użyteczności [1.5 1.5 1.5]\n"
     ]
    }
   ],
   "source": [
    "# Przykładowe wartości alternatyw w 3 wymiarach (3 kryteria)\n",
    "values_discrete_3d = np.array([\n",
    "    [20, 30, 40],\n",
    "    [50, 60, 70],\n",
    "    [80, 90, 100],\n",
    "    [35, 45, 55],\n",
    "    [65, 75, 85]\n",
    "])\n",
    "\n",
    "# Punkty referencyjne (najlepszy, najgorszy, neutralny) w 3 wymiarach\n",
    "reference_points_discrete_3d = np.array([\n",
    "    [20, 30, 40],  # Najlepszy\n",
    "    [80, 90, 100],  # Najgorszy\n",
    "    [50, 60, 70]   # Neutralny\n",
    "])\n",
    "\n",
    "lambda_param = 1.5  # Współczynnik λ (preferencje decydenta)\n",
    "\n",
    "# Wywołanie metody UTA Star dla wersji dyskretnej\n",
    "best_solution_discrete_3d_idx, utility_values_discrete_3d = UTAstar_discrete(values_discrete_3d, reference_points_discrete_3d, lambda_param=lambda_param)\n",
    "\n",
    "print(f\"Najlepsza alternatywa (dyskretna, 3D): {values_discrete_3d[best_solution_discrete_3d_idx]} z funkcją użyteczności {utility_values_discrete_3d[best_solution_discrete_3d_idx]}\")"
   ]
  },
  {
   "cell_type": "markdown",
   "metadata": {},
   "source": [
    "### Dyskretne 4-wymiarowe"
   ]
  },
  {
   "cell_type": "code",
   "execution_count": 4,
   "metadata": {},
   "outputs": [
    {
     "name": "stdout",
     "output_type": "stream",
     "text": [
      "Najlepsza alternatywa (dyskretna, 4D): [ 80  90 100 110] z funkcją użyteczności [1.5 1.5 1.5 1.5]\n"
     ]
    }
   ],
   "source": [
    "# Przykładowe wartości alternatyw w 4 wymiarach (4 kryteria)\n",
    "values_discrete_4d = np.array([\n",
    "    [20, 30, 40, 50],\n",
    "    [50, 60, 70, 80],\n",
    "    [80, 90, 100, 110],\n",
    "    [35, 45, 55, 65],\n",
    "    [65, 75, 85, 95]\n",
    "])\n",
    "\n",
    "# Punkty referencyjne (najlepszy, najgorszy, neutralny) w 4 wymiarach\n",
    "reference_points_discrete_4d = np.array([\n",
    "    [20, 30, 40, 50],  # Najlepszy\n",
    "    [80, 90, 100, 110],  # Najgorszy\n",
    "    [50, 60, 70, 80]   # Neutralny\n",
    "])\n",
    "\n",
    "lambda_param = 1.5  # Współczynnik λ (preferencje decydenta)\n",
    "\n",
    "# Wywołanie metody UTA Star dla wersji dyskretnej\n",
    "best_solution_discrete_4d_idx, utility_values_discrete_4d = UTAstar_discrete(values_discrete_4d, reference_points_discrete_4d, lambda_param=lambda_param)\n",
    "\n",
    "print(f\"Najlepsza alternatywa (dyskretna, 4D): {values_discrete_4d[best_solution_discrete_4d_idx]} z funkcją użyteczności {utility_values_discrete_4d[best_solution_discrete_4d_idx]}\")\n"
   ]
  },
  {
   "cell_type": "markdown",
   "metadata": {},
   "source": [
    "## Testy Ciągłe"
   ]
  },
  {
   "cell_type": "markdown",
   "metadata": {},
   "source": [
    "### Ciągłe 3-wymiarowe"
   ]
  },
  {
   "cell_type": "code",
   "execution_count": 5,
   "metadata": {},
   "outputs": [
    {
     "name": "stdout",
     "output_type": "stream",
     "text": [
      "Najlepsza alternatywa (ciągła, 3D): [43.21727356 81.5128798  69.44270757] z funkcją użyteczności [1.16086368 0.42435601 1.47213538]\n"
     ]
    }
   ],
   "source": [
    "# Przykładowe wartości alternatyw w 3 wymiarach (3 kryteria) w przestrzeni ciągłej\n",
    "values_continuous_3d = np.random.uniform(0, 100, (10, 3))  # 10 alternatyw, 3 kryteria\n",
    "\n",
    "# Punkty referencyjne (najlepszy, najgorszy, neutralny) w 3 wymiarach\n",
    "reference_points_continuous_3d = np.array([\n",
    "    [20, 30, 40],  # Najlepszy\n",
    "    [50, 60, 70],  # Neutralny\n",
    "    [80, 90, 100]  # Najgorszy\n",
    "])\n",
    "\n",
    "lambda_param = 1.5  # Współczynnik λ (preferencje decydenta)\n",
    "\n",
    "# Wywołanie metody UTA Star dla wersji ciągłej\n",
    "best_solution_continuous_3d, utility_values_continuous_3d = UTAstar_continuous(values_continuous_3d, reference_points_continuous_3d, lambda_param=lambda_param)\n",
    "\n",
    "print(f\"Najlepsza alternatywa (ciągła, 3D): {values_continuous_3d[best_solution_continuous_3d]} z funkcją użyteczności {utility_values_continuous_3d[best_solution_continuous_3d]}\")\n"
   ]
  },
  {
   "cell_type": "markdown",
   "metadata": {},
   "source": [
    "### Ciągłe 4-wymiarowe"
   ]
  },
  {
   "cell_type": "code",
   "execution_count": 6,
   "metadata": {},
   "outputs": [
    {
     "name": "stdout",
     "output_type": "stream",
     "text": [
      "Najlepsza alternatywa (ciągła, 4D): [68.56251629 42.51116159 85.89683855 95.70861633] z funkcją użyteczności [0.57187419 0.62555808 0.70515807 0.71456918]\n"
     ]
    }
   ],
   "source": [
    "# Przykładowe wartości alternatyw w 4 wymiarach (4 kryteria) w przestrzeni ciągłej\n",
    "values_continuous_4d = np.random.uniform(0, 100, (10, 4))  # 10 alternatyw, 4 kryteria\n",
    "\n",
    "# Punkty referencyjne (najlepszy, najgorszy, neutralny) w 4 wymiarach\n",
    "reference_points_continuous_4d = np.array([\n",
    "    [20, 30, 40, 50],  # Najlepszy\n",
    "    [50, 60, 70, 80],  # Neutralny\n",
    "    [80, 90, 100, 110]  # Najgorszy\n",
    "])\n",
    "\n",
    "lambda_param = 1.5  # Współczynnik λ (preferencje decydenta)\n",
    "\n",
    "# Wywołanie metody UTA Star dla wersji ciągłej\n",
    "best_solution_continuous_4d, utility_values_continuous_4d = UTAstar_continuous(values_continuous_4d, reference_points_continuous_4d, lambda_param=lambda_param)\n",
    "\n",
    "print(f\"Najlepsza alternatywa (ciągła, 4D): {values_continuous_4d[best_solution_continuous_4d]} z funkcją użyteczności {utility_values_continuous_4d[best_solution_continuous_4d]}\")\n"
   ]
  }
 ],
 "metadata": {
  "kernelspec": {
   "display_name": ".venv",
   "language": "python",
   "name": "python3"
  },
  "language_info": {
   "codemirror_mode": {
    "name": "ipython",
    "version": 3
   },
   "file_extension": ".py",
   "mimetype": "text/x-python",
   "name": "python",
   "nbconvert_exporter": "python",
   "pygments_lexer": "ipython3",
   "version": "3.13.0"
  }
 },
 "nbformat": 4,
 "nbformat_minor": 0
}
