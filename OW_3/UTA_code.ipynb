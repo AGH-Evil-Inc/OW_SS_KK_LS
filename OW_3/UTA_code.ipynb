{
 "cells": [
  {
   "cell_type": "markdown",
   "metadata": {},
   "source": [
    "## Implementacja metody UTAstar dyskretnej"
   ]
  },
  {
   "cell_type": "code",
   "execution_count": null,
   "metadata": {
    "collapsed": true,
    "pycharm": {
     "name": "#%%\n"
    }
   },
   "outputs": [],
   "source": [
    "import numpy as np\n",
    "from scipy.interpolate import interp1d\n",
    "\n",
    "# Funkcja do wyznaczania funkcji użyteczności dla wersji dyskretnej\n",
    "def UTA_function_discrete(values, reference_points, lambda_param=1):\n",
    "    \"\"\"\n",
    "    Aproksymuje funkcje użyteczności dla wersji dyskretnej.\n",
    "    \n",
    "    :param values: Lista wartości alternatyw w przestrzeni kryteriów\n",
    "    :param reference_points: Lista punktów referencyjnych (najlepszy, najgorszy, neutralny)\n",
    "    :param lambda_param: Współczynnik λ (preferencje decydenta)\n",
    "    :return: Lista funkcji użyteczności dla wszystkich alternatyw\n",
    "    \"\"\"\n",
    "    utility_values = []\n",
    "    \n",
    "    # Iterujemy przez alternatywy\n",
    "    for val in values:\n",
    "        alternative_utility = []\n",
    "        \n",
    "        # Iterujemy przez każde kryterium\n",
    "        for i in range(len(val)):\n",
    "            ref_values = [ref[i] for ref in reference_points]  # Zbiór punktów referencyjnych dla kryterium i\n",
    "            # Interpolacja liniowa dla każdego kryterium\n",
    "            interp_func = interp1d(ref_values, [0, 1, 0], kind='linear', fill_value=\"extrapolate\")\n",
    "            utility_value = interp_func(val[i]) * lambda_param  # Użycie λ\n",
    "            alternative_utility.append(utility_value)\n",
    "        \n",
    "        utility_values.append(alternative_utility)\n",
    "    \n",
    "    return np.array(utility_values)\n",
    "\n",
    "# Funkcja do porównania alternatyw (dyskretna wersja)\n",
    "def UTAstar_discrete(values, reference_points, lambda_param=1):\n",
    "    \"\"\"\n",
    "    Metoda UTA Star dla wersji dyskretnej (wielokryterialnej) uwzględniająca preferencje decydenta.\n",
    "    \n",
    "    :param values: Lista wartości alternatyw w przestrzeni kryteriów\n",
    "    :param reference_points: Lista punktów referencyjnych dla każdego kryterium\n",
    "    :param lambda_param: Współczynnik λ (preferencje decydenta)\n",
    "    :return: Wybrana alternatywa\n",
    "    \"\"\"\n",
    "    # Wyznaczanie funkcji użyteczności\n",
    "    utility_values = UTA_function_discrete(values, reference_points, lambda_param)\n",
    "    \n",
    "    # Wybór rozwiązania kompromisowego - wybieramy alternatywę z maksymalną sumą użyteczności\n",
    "    summed_utility = np.sum(utility_values, axis=1)\n",
    "    best_solution_idx = np.argmax(summed_utility)  # Wybieramy alternatywę z największą sumą funkcji użyteczności\n",
    "    return best_solution_idx, utility_values"
   ]
  },
  {
   "cell_type": "markdown",
   "metadata": {},
   "source": [
    "## Implementacja UTAstar ciągłej"
   ]
  },
  {
   "cell_type": "code",
   "execution_count": null,
   "metadata": {},
   "outputs": [],
   "source": [
    "import numpy as np\n",
    "from scipy.interpolate import interp1d\n",
    "\n",
    "# Funkcja do wyznaczania funkcji użyteczności (ciągła wersja z preferencjami)\n",
    "def UTA_function_continuous(values, reference_points, lambda_param=1, use_polynomial=False):\n",
    "    \"\"\"\n",
    "    Aproksymuje funkcje użyteczności w przestrzeni ciągłej dla wielu kryteriów.\n",
    "    Uwzględnia preferencje decydenta przez współczynnik λ i punkty referencyjne.\n",
    "    \n",
    "    :param values: Lista wartości kryteriów dla alternatyw\n",
    "    :param reference_points: Lista punktów referencyjnych (np. [najlepszy, najgorszy, neutralny])\n",
    "    :param lambda_param: Współczynnik λ (preferencje decydenta)\n",
    "    :param use_polynomial: Jeśli True, stosuje aproksymację wielomianową, w przeciwnym razie interpolację\n",
    "    :return: Funkcje użyteczności\n",
    "    \"\"\"\n",
    "    utility_values = []\n",
    "    for i in range(len(reference_points[0])):  # Iterujemy po kryteriach\n",
    "        ref_values = [ref[i] for ref in reference_points]  # Zbiór punktów referencyjnych dla kryterium i\n",
    "        if use_polynomial:\n",
    "            # Przy użyciu funkcji aproksymacji wielomianowej\n",
    "            coef = np.polyfit(ref_values, [0, 1, 0], 2)  # Przykład: funkcja kwadratowa\n",
    "            poly_func = np.poly1d(coef)\n",
    "            utility_values.append(poly_func(values[:, i]) * lambda_param)  # Użycie λ\n",
    "        else:\n",
    "            # Interpolacja liniowa\n",
    "            interp_func = interp1d(ref_values, [0, 1, 0], kind='linear', fill_value=\"extrapolate\")\n",
    "            utility_values.append(interp_func(values[:, i]) * lambda_param)  # Użycie λ\n",
    "    return np.array(utility_values).T  # Zwracamy funkcje użyteczności dla wszystkich alternatyw\n",
    "\n",
    "# Funkcja do porównania alternatyw (ciągła wersja z uwzględnieniem preferencji)\n",
    "def UTAstar_continuous(values, reference_points, lambda_param=1, use_polynomial=False):\n",
    "    \"\"\"\n",
    "    Metoda UTA Star dla wersji ciągłej (wielokryterialnej) uwzględniająca preferencje decydenta.\n",
    "    \n",
    "    :param values: Lista wartości alternatyw w przestrzeni kryteriów\n",
    "    :param reference_points: Lista punktów referencyjnych dla każdego kryterium\n",
    "    :param lambda_param: Współczynnik λ (preferencje decydenta)\n",
    "    :param use_polynomial: Jeśli True, stosuje aproksymację wielomianową, w przeciwnym razie interpolację\n",
    "    :return: Wybrana alternatywa\n",
    "    \"\"\"\n",
    "    # Wyznaczanie funkcji użyteczności\n",
    "    utility_values = UTA_function_continuous(values, reference_points, lambda_param, use_polynomial)\n",
    "    \n",
    "    # Wybór rozwiązania kompromisowego - wybieramy alternatywę z maksymalną sumą użyteczności\n",
    "    summed_utility = np.sum(utility_values, axis=1)\n",
    "    best_solution = np.argmax(summed_utility)  # Wybieramy alternatywę z największą sumą funkcji użyteczności\n",
    "    return best_solution, utility_values\n"
   ]
  }
 ],
 "metadata": {
  "kernelspec": {
   "display_name": ".venv",
   "language": "python",
   "name": "python3"
  },
  "language_info": {
   "codemirror_mode": {
    "name": "ipython",
    "version": 3
   },
   "file_extension": ".py",
   "mimetype": "text/x-python",
   "name": "python",
   "nbconvert_exporter": "python",
   "pygments_lexer": "ipython3",
   "version": "3.13.0"
  }
 },
 "nbformat": 4,
 "nbformat_minor": 0
}
