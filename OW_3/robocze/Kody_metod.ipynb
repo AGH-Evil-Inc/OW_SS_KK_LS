{
 "cells": [
  {
   "cell_type": "code",
   "execution_count": 34,
   "outputs": [],
   "source": [
    "import numpy as np\n",
    "from scipy.optimize import minimize\n",
    "from scipy.interpolate import interp1d"
   ],
   "metadata": {
    "collapsed": false,
    "pycharm": {
     "name": "#%%\n"
    }
   }
  },
  {
   "cell_type": "code",
   "execution_count": 35,
   "outputs": [],
   "source": [
    "def topsis(decision_matrix, weights, criteria):\n",
    "    \"\"\"\n",
    "    Implementation of the TOPSIS method for multicriteria decision analysis in discrete form.\n",
    "\n",
    "    Parameters:\n",
    "    decision_matrix (ndarray): Matrix (m x n) with m alternatives and n criteria.\n",
    "    weights (list or ndarray): Weights for each criterion.\n",
    "    criteria (list or ndarray): A list specifying whether each criterion should be maximized (1) or minimized (-1).\n",
    "\n",
    "    Returns:\n",
    "    tuple: Ranking of alternatives and their respective scores.\n",
    "    \"\"\"\n",
    "    # Step 1: Normalize the decision matrix\n",
    "    norm_matrix = decision_matrix / np.sqrt((decision_matrix ** 2).sum(axis=0))\n",
    "\n",
    "    # Step 2: Apply weights to the normalized matrix\n",
    "    weighted_matrix = norm_matrix * weights\n",
    "\n",
    "    # Step 3: Determine the ideal (best) and anti-ideal (worst) solutions\n",
    "    ideal_best = np.max(weighted_matrix, axis=0) * (criteria == 1) + np.min(weighted_matrix, axis=0) * (criteria == -1)\n",
    "    ideal_worst = np.min(weighted_matrix, axis=0) * (criteria == 1) + np.max(weighted_matrix, axis=0) * (criteria == -1)\n",
    "\n",
    "    # Step 4: Calculate distances from the ideal and anti-ideal solutions\n",
    "    dist_to_ideal = np.sqrt(((weighted_matrix - ideal_best) ** 2).sum(axis=1))\n",
    "    dist_to_worst = np.sqrt(((weighted_matrix - ideal_worst) ** 2).sum(axis=1))\n",
    "\n",
    "    # Step 5: Calculate the score for each alternative\n",
    "    score = dist_to_worst / (dist_to_ideal + dist_to_worst)\n",
    "\n",
    "    # Step 6: Rank the alternatives\n",
    "    ranking = np.argsort(score)[::-1]  # Sort in descending order by score\n",
    "    return ranking, score"
   ],
   "metadata": {
    "collapsed": false,
    "pycharm": {
     "name": "#%%\n"
    }
   }
  },
  {
   "cell_type": "code",
   "execution_count": 36,
   "outputs": [],
   "source": [
    "def fuzzy_topsis(decision_matrix, weights, criteria_type):\n",
    "    \"\"\"\n",
    "    Implementation of the Fuzzy TOPSIS method for multicriteria decision analysis.\n",
    "\n",
    "    Parameters:\n",
    "    decision_matrix (ndarray): Matrix (m x n x 3) with m alternatives, n criteria, and 3 values representing fuzzy numbers (low, medium, high).\n",
    "    weights (list or ndarray): Weights for each criterion.\n",
    "    criteria_type (list): A list specifying whether each criterion should be 'max' or 'min'.\n",
    "\n",
    "    Returns:\n",
    "    ndarray: Score for each alternative, ranking them from best to worst.\n",
    "    \"\"\"\n",
    "    # Step 1: Normalize the decision matrix\n",
    "    norm_matrix = np.zeros_like(decision_matrix, dtype=float)\n",
    "    for j in range(decision_matrix.shape[1]):\n",
    "        if criteria_type[j] == 'max':\n",
    "            max_value = np.max(decision_matrix[:, j, 2])\n",
    "            norm_matrix[:, j, 0] = decision_matrix[:, j, 0] / max_value\n",
    "            norm_matrix[:, j, 1] = decision_matrix[:, j, 1] / max_value\n",
    "            norm_matrix[:, j, 2] = decision_matrix[:, j, 2] / max_value\n",
    "        else:\n",
    "            min_value = np.min(decision_matrix[:, j, 0])\n",
    "            norm_matrix[:, j, 0] = min_value / decision_matrix[:, j, 2]\n",
    "            norm_matrix[:, j, 1] = min_value / decision_matrix[:, j, 1]\n",
    "            norm_matrix[:, j, 2] = min_value / decision_matrix[:, j, 0]\n",
    "\n",
    "    # Step 2: Apply the weights\n",
    "    weighted_matrix = np.zeros_like(norm_matrix, dtype=float)\n",
    "    for j in range(norm_matrix.shape[1]):\n",
    "        weighted_matrix[:, j, 0] = norm_matrix[:, j, 0] * weights[j]\n",
    "        weighted_matrix[:, j, 1] = norm_matrix[:, j, 1] * weights[j]\n",
    "        weighted_matrix[:, j, 2] = norm_matrix[:, j, 2] * weights[j]\n",
    "\n",
    "    # Step 3: Determine FPIS and FNIS\n",
    "    fpis = np.zeros((decision_matrix.shape[1], 3), dtype=float)\n",
    "    fnis = np.zeros((decision_matrix.shape[1], 3), dtype=float)\n",
    "    for j in range(weighted_matrix.shape[1]):\n",
    "        if criteria_type[j] == 'max':\n",
    "            fpis[j] = np.max(weighted_matrix[:, j, :], axis=0)\n",
    "            fnis[j] = np.min(weighted_matrix[:, j, :], axis=0)\n",
    "        else:\n",
    "            fpis[j] = np.min(weighted_matrix[:, j, :], axis=0)\n",
    "            fnis[j] = np.max(weighted_matrix[:, j, :], axis=0)\n",
    "\n",
    "    # Step 4: Calculate the distances to FPIS and FNIS\n",
    "    distance_to_fpis = np.sqrt(np.sum(np.power(weighted_matrix - fpis, 2), axis=(1, 2)))\n",
    "    distance_to_fnis = np.sqrt(np.sum(np.power(weighted_matrix - fnis, 2), axis=(1, 2)))\n",
    "\n",
    "    # Step 5: Calculate the similarity to the ideal solution\n",
    "    with np.errstate(divide='ignore', invalid='ignore'):\n",
    "        similarity_to_ideal = distance_to_fnis / (distance_to_fpis + distance_to_fnis)\n",
    "        similarity_to_ideal[np.isnan(similarity_to_ideal)] = 0  # Handle division by zero\n",
    "\n",
    "    return similarity_to_ideal"
   ],
   "metadata": {
    "collapsed": false,
    "pycharm": {
     "name": "#%%\n"
    }
   }
  },
  {
   "cell_type": "code",
   "execution_count": 37,
   "outputs": [],
   "source": [
    "def continuous_reference_set_method(objective_functions, directions, a, b, bounds, x0=None):\n",
    "    \"\"\"\n",
    "    Implementacja metody zbiorów odniesienia dla ciągłego problemu optymalizacji wielokryterialnej.\n",
    "\n",
    "    Parametry:\n",
    "    - objective_functions: lista funkcji celu\n",
    "    - directions: numpy array z wartościami 1 (maksymalizacja) lub -1 (minimalizacja) dla każdego kryterium\n",
    "    - a: numpy array z punktami aspiracji dla każdego kryterium\n",
    "    - b: numpy array z punktami status quo dla każdego kryterium\n",
    "    - bounds: lista krotek określających ograniczenia dla zmiennych decyzyjnych\n",
    "    - x0: opcjonalnie, punkt startowy dla optymalizacji\n",
    "\n",
    "    Zwraca:\n",
    "    - result: wynik optymalizacji z biblioteki scipy.optimize\n",
    "    - optimal_f_values: wartości funkcji celu w optymalnym punkcie\n",
    "    - optimal_score: wartość funkcji skoringowej w optymalnym punkcie\n",
    "    \"\"\"\n",
    "\n",
    "    # Liczba kryteriów\n",
    "    num_criteria = len(objective_functions)\n",
    "\n",
    "    # Funkcja agregująca wartości funkcji celu\n",
    "    def F(x):\n",
    "        return np.array([f(x) for f in objective_functions])\n",
    "\n",
    "    # Funkcja normalizująca z uwzględnieniem kierunku optymalizacji\n",
    "    def normalize(f_values, a, b, directions):\n",
    "        norm_values = np.zeros_like(f_values)\n",
    "        for i in range(len(f_values)):\n",
    "            if directions[i] == -1:  # Minimalizacja\n",
    "                norm_values[i] = (f_values[i] - a[i]) / (b[i] - a[i])\n",
    "            else:  # Maksymalizacja\n",
    "                norm_values[i] = (b[i] - f_values[i]) / (b[i] - a[i])\n",
    "        return norm_values\n",
    "\n",
    "    # Funkcja skoringowa oparta na metodzie TOPSIS\n",
    "    def scoring_function(x):\n",
    "        f_values = F(x)\n",
    "        # Normalizacja z uwzględnieniem kierunku optymalizacji\n",
    "        f_norm = normalize(f_values, a, b, directions)\n",
    "        # Obliczanie odległości od punktu idealnego (aspiracji) i anty-idealnego (status quo)\n",
    "        distance_to_a = np.linalg.norm(f_norm - np.zeros(len(f_norm)))\n",
    "        distance_to_b = np.linalg.norm(f_norm - np.ones(len(f_norm)))\n",
    "        # Wskaźnik bliskości do ideału\n",
    "        C = distance_to_b / (distance_to_a + distance_to_b)\n",
    "        return C\n",
    "\n",
    "    # Funkcja do minimalizacji (negacja wskaźnika C)\n",
    "    def objective(x):\n",
    "        return -scoring_function(x)\n",
    "\n",
    "    # Punkt startowy\n",
    "    if x0 is None:\n",
    "        x0 = np.zeros(len(bounds))\n",
    "\n",
    "    # Optymalizacja\n",
    "    result = minimize(\n",
    "        objective,\n",
    "        x0=x0,\n",
    "        bounds=bounds,\n",
    "        method='SLSQP'\n",
    "    )\n",
    "\n",
    "    optimal_x = result.x\n",
    "    optimal_f_values = F(optimal_x)\n",
    "    optimal_score = scoring_function(optimal_x)\n",
    "\n",
    "    return result, optimal_f_values, optimal_score"
   ],
   "metadata": {
    "collapsed": false,
    "pycharm": {
     "name": "#%%\n"
    }
   }
  },
  {
   "cell_type": "code",
   "execution_count": 38,
   "outputs": [],
   "source": [
    "def discrete_reference_set_method(alternatives, directions, a, b):\n",
    "    \"\"\"\n",
    "    Implementacja metody zbiorów odniesienia dla dyskretnego problemu optymalizacji wielokryterialnej.\n",
    "\n",
    "    Parametry:\n",
    "    - alternatives: numpy array z listą alternatyw (rozwiązań), gdzie każdy wiersz to alternatywa, a kolumny to kryteria.\n",
    "    - directions: numpy array z wartościami 1 (maksymalizacja) lub -1 (minimalizacja) dla każdego kryterium.\n",
    "    - a: numpy array z punktami aspiracji (najlepsze wartości) dla każdego kryterium.\n",
    "    - b: numpy array z punktami status quo (najgorsze wartości) dla każdego kryterium.\n",
    "\n",
    "    Zwraca:\n",
    "    - ranking: numpy array z indeksami alternatyw posortowanych od najbardziej preferowanych do najmniej.\n",
    "    - scores: numpy array z wartościami funkcji skoringowej dla każdej alternatywy.\n",
    "    \"\"\"\n",
    "\n",
    "    # Funkcja normalizująca z uwzględnieniem kierunku optymalizacji\n",
    "    def normalize(alternatives, a, b, directions):\n",
    "        norm_alt = np.zeros_like(alternatives, dtype=float)\n",
    "        for i in range(len(directions)):\n",
    "            if directions[i] == -1:  # Minimalizacja\n",
    "                norm_alt[:, i] = (alternatives[:, i] - a[i]) / (b[i] - a[i])\n",
    "            else:  # Maksymalizacja\n",
    "                norm_alt[:, i] = (b[i] - alternatives[:, i]) / (b[i] - a[i])\n",
    "        return norm_alt\n",
    "\n",
    "    # Funkcja skoringowa\n",
    "    def scoring_function(alternatives, a, b, directions):\n",
    "        norm_alt = normalize(alternatives, a, b, directions)\n",
    "        distance_to_a = np.linalg.norm(norm_alt - np.zeros((len(alternatives), len(a))), axis=1)\n",
    "        distance_to_b = np.linalg.norm(norm_alt - np.ones((len(alternatives), len(a))), axis=1)\n",
    "        C = distance_to_b / (distance_to_a + distance_to_b)\n",
    "        return C\n",
    "\n",
    "    # Obliczanie wartości funkcji skoringowej\n",
    "    scores = scoring_function(alternatives, a, b, directions)\n",
    "\n",
    "    # Tworzenie rankingu\n",
    "    ranking = np.argsort(-scores)  # Negacja, aby sortować malejąco\n",
    "\n",
    "    return ranking, scores"
   ],
   "metadata": {
    "collapsed": false,
    "pycharm": {
     "name": "#%%\n"
    }
   }
  },
  {
   "cell_type": "code",
   "execution_count": 39,
   "outputs": [],
   "source": [
    "# Funkcja do wyznaczania funkcji użyteczności dla wersji dyskretnej\n",
    "def UTA_function_discrete(values, reference_points, lambda_param=1):\n",
    "    \"\"\"\n",
    "    Aproksymuje funkcje użyteczności dla wersji dyskretnej.\n",
    "\n",
    "    :param values: Lista wartości alternatyw w przestrzeni kryteriów\n",
    "    :param reference_points: Lista punktów referencyjnych (najlepszy, najgorszy, neutralny)\n",
    "    :param lambda_param: Współczynnik λ (preferencje decydenta)\n",
    "    :return: Lista funkcji użyteczności dla wszystkich alternatyw\n",
    "    \"\"\"\n",
    "    utility_values = []\n",
    "\n",
    "    # Iterujemy przez alternatywy\n",
    "    for val in values:\n",
    "        alternative_utility = []\n",
    "\n",
    "        # Iterujemy przez każde kryterium\n",
    "        for i in range(len(val)):\n",
    "            ref_values = [ref[i] for ref in reference_points]  # Zbiór punktów referencyjnych dla kryterium i\n",
    "            # Interpolacja liniowa dla każdego kryterium\n",
    "            interp_func = interp1d(ref_values, [0, 1, 0], kind='linear', fill_value=\"extrapolate\")\n",
    "            utility_value = interp_func(val[i]) * lambda_param  # Użycie λ\n",
    "            alternative_utility.append(utility_value)\n",
    "\n",
    "        utility_values.append(alternative_utility)\n",
    "\n",
    "    return np.array(utility_values)"
   ],
   "metadata": {
    "collapsed": false,
    "pycharm": {
     "name": "#%%\n"
    }
   }
  },
  {
   "cell_type": "code",
   "execution_count": 40,
   "outputs": [],
   "source": [
    "# Funkcja do porównania alternatyw (dyskretna wersja)\n",
    "def UTAstar_discrete(values, reference_points, lambda_param=1):\n",
    "    \"\"\"\n",
    "    Metoda UTA Star dla wersji dyskretnej (wielokryterialnej) uwzględniająca preferencje decydenta.\n",
    "\n",
    "    :param values: Lista wartości alternatyw w przestrzeni kryteriów\n",
    "    :param reference_points: Lista punktów referencyjnych dla każdego kryterium\n",
    "    :param lambda_param: Współczynnik λ (preferencje decydenta)\n",
    "    :return: Wybrana alternatywa\n",
    "    \"\"\"\n",
    "    # Wyznaczanie funkcji użyteczności\n",
    "    utility_values = UTA_function_discrete(values, reference_points, lambda_param)\n",
    "\n",
    "    # Wybór rozwiązania kompromisowego - wybieramy alternatywę z maksymalną sumą użyteczności\n",
    "    summed_utility = np.sum(utility_values, axis=1)\n",
    "    best_solution_idx = np.argmax(summed_utility)  # Wybieramy alternatywę z największą sumą funkcji użyteczności\n",
    "    return best_solution_idx, utility_values"
   ],
   "metadata": {
    "collapsed": false,
    "pycharm": {
     "name": "#%%\n"
    }
   }
  },
  {
   "cell_type": "code",
   "execution_count": 41,
   "outputs": [],
   "source": [
    "# Funkcja do wyznaczania funkcji użyteczności (ciągła wersja z preferencjami)\n",
    "def UTA_function_continuous(values, reference_points, lambda_param=1, use_polynomial=False):\n",
    "    \"\"\"\n",
    "    Aproksymuje funkcje użyteczności w przestrzeni ciągłej dla wielu kryteriów.\n",
    "    Uwzględnia preferencje decydenta przez współczynnik λ i punkty referencyjne.\n",
    "\n",
    "    :param values: Lista wartości kryteriów dla alternatyw\n",
    "    :param reference_points: Lista punktów referencyjnych (np. [najlepszy, najgorszy, neutralny])\n",
    "    :param lambda_param: Współczynnik λ (preferencje decydenta)\n",
    "    :param use_polynomial: Jeśli True, stosuje aproksymację wielomianową, w przeciwnym razie interpolację\n",
    "    :return: Funkcje użyteczności\n",
    "    \"\"\"\n",
    "    utility_values = []\n",
    "    for i in range(len(reference_points[0])):  # Iterujemy po kryteriach\n",
    "        ref_values = [ref[i] for ref in reference_points]  # Zbiór punktów referencyjnych dla kryterium i\n",
    "        if use_polynomial:\n",
    "            # Przy użyciu funkcji aproksymacji wielomianowej\n",
    "            coef = np.polyfit(ref_values, [0, 1, 0], 2)  # Przykład: funkcja kwadratowa\n",
    "            poly_func = np.poly1d(coef)\n",
    "            utility_values.append(poly_func(values[:, i]) * lambda_param)  # Użycie λ\n",
    "        else:\n",
    "            # Interpolacja liniowa\n",
    "            interp_func = interp1d(ref_values, [0, 1, 0], kind='linear', fill_value=\"extrapolate\")\n",
    "            utility_values.append(interp_func(values[:, i]) * lambda_param)  # Użycie λ\n",
    "    return np.array(utility_values).T  # Zwracamy funkcje użyteczności dla wszystkich alternatyw"
   ],
   "metadata": {
    "collapsed": false,
    "pycharm": {
     "name": "#%%\n"
    }
   }
  },
  {
   "cell_type": "code",
   "execution_count": 42,
   "outputs": [],
   "source": [
    "# Funkcja do porównania alternatyw (ciągła wersja z uwzględnieniem preferencji)\n",
    "def UTAstar_continuous(values, reference_points, lambda_param=1, use_polynomial=False):\n",
    "    \"\"\"\n",
    "    Metoda UTA Star dla wersji ciągłej (wielokryterialnej) uwzględniająca preferencje decydenta.\n",
    "\n",
    "    :param values: Lista wartości alternatyw w przestrzeni kryteriów\n",
    "    :param reference_points: Lista punktów referencyjnych dla każdego kryterium\n",
    "    :param lambda_param: Współczynnik λ (preferencje decydenta)\n",
    "    :param use_polynomial: Jeśli True, stosuje aproksymację wielomianową, w przeciwnym razie interpolację\n",
    "    :return: Wybrana alternatywa\n",
    "    \"\"\"\n",
    "    # Wyznaczanie funkcji użyteczności\n",
    "    utility_values = UTA_function_continuous(values, reference_points, lambda_param, use_polynomial)\n",
    "\n",
    "    # Wybór rozwiązania kompromisowego - wybieramy alternatywę z maksymalną sumą użyteczności\n",
    "    summed_utility = np.sum(utility_values, axis=1)\n",
    "    best_solution = np.argmax(summed_utility)  # Wybieramy alternatywę z największą sumą funkcji użyteczności\n",
    "    return best_solution, utility_values"
   ],
   "metadata": {
    "collapsed": false,
    "pycharm": {
     "name": "#%%\n"
    }
   }
  }
 ],
 "metadata": {
  "kernelspec": {
   "display_name": "Python 3",
   "language": "python",
   "name": "python3"
  },
  "language_info": {
   "codemirror_mode": {
    "name": "ipython",
    "version": 2
   },
   "file_extension": ".py",
   "mimetype": "text/x-python",
   "name": "python",
   "nbconvert_exporter": "python",
   "pygments_lexer": "ipython2",
   "version": "2.7.6"
  }
 },
 "nbformat": 4,
 "nbformat_minor": 0
}