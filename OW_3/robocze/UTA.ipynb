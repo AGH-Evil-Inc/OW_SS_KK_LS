{
 "cells": [
  {
   "cell_type": "markdown",
   "metadata": {},
   "source": [
    "## Implementacja metody UTAstar dyskretnej"
   ]
  },
  {
   "cell_type": "code",
   "execution_count": 23,
   "metadata": {
    "collapsed": true,
    "pycharm": {
     "name": "#%%\n"
    }
   },
   "outputs": [
    {
     "name": "stdout",
     "output_type": "stream",
     "text": [
      "Najlepsza alternatywa (dyskretna): [50 60] z funkcją użyteczności [1.5 1.5]\n"
     ]
    }
   ],
   "source": [
    "import numpy as np\n",
    "from scipy.interpolate import interp1d\n",
    "\n",
    "# Funkcja do wyznaczania funkcji użyteczności dla wersji dyskretnej\n",
    "def UTA_function_discrete(values, reference_points, lambda_param=1):\n",
    "    \"\"\"\n",
    "    Aproksymuje funkcje użyteczności dla wersji dyskretnej.\n",
    "    \n",
    "    :param values: Lista wartości alternatyw w przestrzeni kryteriów\n",
    "    :param reference_points: Lista punktów referencyjnych (najlepszy, najgorszy, neutralny)\n",
    "    :param lambda_param: Współczynnik λ (preferencje decydenta)\n",
    "    :return: Lista funkcji użyteczności dla wszystkich alternatyw\n",
    "    \"\"\"\n",
    "    utility_values = []\n",
    "    \n",
    "    # Iterujemy przez alternatywy\n",
    "    for val in values:\n",
    "        alternative_utility = []\n",
    "        \n",
    "        # Iterujemy przez każde kryterium\n",
    "        for i in range(len(val)):\n",
    "            ref_values = [ref[i] for ref in reference_points]  # Zbiór punktów referencyjnych dla kryterium i\n",
    "            # Interpolacja liniowa dla każdego kryterium\n",
    "            interp_func = interp1d(ref_values, [-1, 0, 1], kind='linear', fill_value=\"extrapolate\")\n",
    "            utility_value = interp_func(val[i]) * lambda_param  # Użycie λ\n",
    "            alternative_utility.append(utility_value)\n",
    "        \n",
    "        utility_values.append(alternative_utility)\n",
    "    \n",
    "    return np.array(utility_values)\n",
    "\n",
    "# Funkcja do porównania alternatyw (dyskretna wersja)\n",
    "def UTAstar_discrete(values, reference_points, lambda_param=1):\n",
    "    \"\"\"\n",
    "    Metoda UTA Star dla wersji dyskretnej (wielokryterialnej) uwzględniająca preferencje decydenta.\n",
    "    \n",
    "    :param values: Lista wartości alternatyw w przestrzeni kryteriów\n",
    "    :param reference_points: Lista punktów referencyjnych dla każdego kryterium\n",
    "    :param lambda_param: Współczynnik λ (preferencje decydenta)\n",
    "    :return: Wybrana alternatywa\n",
    "    \"\"\"\n",
    "    # Wyznaczanie funkcji użyteczności\n",
    "    utility_values = UTA_function_discrete(values, reference_points, lambda_param)\n",
    "    \n",
    "    # Wybór rozwiązania kompromisowego - wybieramy alternatywę z maksymalną sumą użyteczności\n",
    "    summed_utility = np.sum(utility_values, axis=1)\n",
    "    best_solution_idx = np.argmax(summed_utility)  # Wybieramy alternatywę z największą sumą funkcji użyteczności\n",
    "    return best_solution_idx, utility_values\n",
    "\n",
    "# Przykład użycia (wersja dyskretna)\n",
    "values_discrete = np.array([[20, 30], [50, 60], [80, 90], [35, 45], [65, 70]])  # Przykładowe wartości alternatyw\n",
    "reference_points_discrete = np.array([[20, 30], [80, 90], [50, 60]])  # Punkty referencyjne (najlepszy, najgorszy, neutralny)\n",
    "lambda_param = 1.5  # Przykładowy współczynnik λ (preferencje decydenta)\n",
    "best_solution_discrete_idx, utility_values_discrete = UTAstar_discrete(values_discrete, reference_points_discrete, lambda_param=lambda_param)\n",
    "\n",
    "print(f\"Najlepsza alternatywa (dyskretna): {values_discrete[best_solution_discrete_idx]} z funkcją użyteczności {utility_values_discrete[best_solution_discrete_idx]}\")\n"
   ]
  },
  {
   "cell_type": "markdown",
   "metadata": {},
   "source": [
    "## Implementacja UTAstar ciągłej"
   ]
  },
  {
   "cell_type": "code",
   "execution_count": 24,
   "metadata": {},
   "outputs": [
    {
     "name": "stdout",
     "output_type": "stream",
     "text": [
      "Najlepsza alternatywa (ciągła): [10.         20.         30.         50.92106426] z użytecznością 5.020071010860321 | [[1.33333333 1.33333333 1.33333333 1.02007101]]\n"
     ]
    }
   ],
   "source": [
    "import numpy as np\n",
    "from scipy.interpolate import interp1d\n",
    "from scipy.optimize import minimize\n",
    "\n",
    "# Funkcja do wyznaczania funkcji użyteczności dla wersji ciągłej\n",
    "def UTA_function_continuous(values, reference_points, lambda_param=1, use_polynomial=False):\n",
    "    \"\"\"\n",
    "    Aproksymuje funkcje użyteczności dla wersji ciągłej.\n",
    "\n",
    "    :param values: Lista wartości alternatyw w przestrzeni kryteriów (ciągłe wartości)\n",
    "    :param reference_points: Lista punktów referencyjnych (najlepszy, najgorszy, neutralny)\n",
    "    :param lambda_param: Współczynnik λ (preferencje decydenta)\n",
    "    :param use_polynomial: Flaga, czy używać interpolacji wielomianowej zamiast liniowej\n",
    "    :return: Lista funkcji użyteczności dla wszystkich alternatyw\n",
    "    \"\"\"\n",
    "    utility_functions = []\n",
    "\n",
    "    # Budowa funkcji użyteczności dla każdego kryterium\n",
    "    for i in range(len(reference_points[0])):\n",
    "        ref_values = [ref[i] for ref in reference_points]  # Punkty referencyjne dla kryterium i\n",
    "        utility_values = [-1, 0, 1]  # Wartości użyteczności odpowiadające punktom referencyjnym\n",
    "\n",
    "        if use_polynomial:\n",
    "            # Interpolacja wielomianowa za pomocą np.polyfit\n",
    "            coeffs = np.polyfit(ref_values, utility_values, deg=min(len(ref_values)-1, 2))\n",
    "            def poly_func(x, coeffs=coeffs):\n",
    "                return np.polyval(coeffs, x)\n",
    "            utility_functions.append(poly_func)\n",
    "        else:\n",
    "            # Tworzenie funkcji aproksymującej (ciągła interpolacja liniowa)\n",
    "            interp_func = interp1d(ref_values, utility_values, kind='linear', fill_value=\"extrapolate\")\n",
    "            utility_functions.append(interp_func)\n",
    "\n",
    "    # Wyznaczanie wartości funkcji użyteczności dla alternatyw\n",
    "    utility_values = []\n",
    "    for val in values:\n",
    "        alternative_utility = []\n",
    "        for i in range(len(val)):\n",
    "            utility_value = utility_functions[i](val[i]) * lambda_param  # Obliczanie użyteczności dla kryterium i\n",
    "            alternative_utility.append(utility_value)\n",
    "        utility_values.append(alternative_utility)\n",
    "\n",
    "    return np.array(utility_values)\n",
    "\n",
    "# Funkcja optymalizacji w wersji ciągłej\n",
    "def UTAstar_continuous(values, reference_points, lambda_param=1, use_polynomial=False):\n",
    "    \"\"\"\n",
    "    Metoda UTA Star dla wersji ciągłej (wielokryterialnej).\n",
    "\n",
    "    :param values: Lista wartości alternatyw w przestrzeni kryteriów\n",
    "    :param reference_points: Lista punktów referencyjnych dla każdego kryterium\n",
    "    :param lambda_param: Współczynnik λ (preferencje decydenta)\n",
    "    :param use_polynomial: Flaga, czy używać interpolacji wielomianowej zamiast liniowej\n",
    "    :return: Najlepsza alternatywa oraz jej użyteczność\n",
    "    \"\"\"\n",
    "    # Wyznaczanie bounds na podstawie wartości alternatyw\n",
    "    bounds = [(np.min(values[:, i]), np.max(values[:, i])) for i in range(values.shape[1])]\n",
    "\n",
    "    # Funkcja celu: Maksymalizacja sumy użyteczności\n",
    "    def objective_function(x):\n",
    "        utility_values = UTA_function_continuous([x], reference_points, lambda_param=lambda_param, use_polynomial=use_polynomial)\n",
    "        return -np.sum(utility_values)  # Negujemy, ponieważ minimalizujemy w optymalizacji\n",
    "\n",
    "    # Początkowy punkt startowy (środek przedziałów)\n",
    "    initial_guess = [(b[0] + b[1]) / 2 for b in bounds]\n",
    "\n",
    "    # Ograniczenia w formacie scipy.optimize\n",
    "    constraints = [(b[0], b[1]) for b in bounds]\n",
    "\n",
    "    # Optymalizacja\n",
    "    result = minimize(objective_function, initial_guess, bounds=constraints, method='SLSQP')\n",
    "\n",
    "    # Wartości użyteczności dla punktów wejściowych\n",
    "    utility_values = objective_function(values)\n",
    "\n",
    "    if result.success:\n",
    "        best_solution = result.x\n",
    "        best_utility = -result.fun  # Odpowiada maksymalnej użyteczności\n",
    "        best_utility_vals = UTA_function_continuous([best_solution], reference_points, lambda_param=lambda_param, use_polynomial=use_polynomial)\n",
    "        return best_solution, best_utility, utility_values, best_utility_vals\n",
    "    else:\n",
    "        raise ValueError(\"Optymalizacja nie powiodła się.\")\n",
    "\n",
    "\n",
    "# Przykład użycia (wersja ciągła)\n",
    "values_discrete = np.array([\n",
    "    [10, 20, 30, 60],\n",
    "    [20, 30, 40, 50],\n",
    "    [50, 60, 70, 80],\n",
    "    [80, 90, 100, 110],\n",
    "    [35, 45, 55, 65],\n",
    "    [65, 75, 85, 95]\n",
    "])\n",
    "\n",
    "# Punkty referencyjne (najlepszy, najgorszy, neutralny) w 4 wymiarach\n",
    "reference_points_continuous = np.array([\n",
    "    [80, 90, 100, 10],  # Najgorszy\n",
    "    [50, 60, 70, 80],   # Neutralny\n",
    "    [20, 30, 40, 55],  # Najlepszy\n",
    "])\n",
    "\n",
    "# values_discrete = np.array([[20, 30], [50, 60], [80, 90], [35, 45], [65, 70]])  # Przykładowe wartości alternatyw\n",
    "# reference_points_continuous = np.array([[20, 30], [80, 90], [50, 60]])  # Punkty referencyjne (najlepszy, najgorszy, neutralny)\n",
    "lambda_param = 1  # Przykładowy współczynnik λ (preferencje decydenta)\n",
    "\n",
    "best_solution_continuous, best_utility_continuous_sum, best_utility_continuous_vals = UTAstar_continuous(values_discrete, reference_points_continuous, lambda_param=lambda_param, use_polynomial=True)\n",
    "\n",
    "print(f\"Najlepsza alternatywa (ciągła): {best_solution_continuous} z użytecznością {best_utility_continuous_sum} | {best_utility_continuous_vals}\")\n"
   ]
  },
  {
   "cell_type": "markdown",
   "metadata": {},
   "source": [
    "# Testy obliczeniowe"
   ]
  },
  {
   "cell_type": "markdown",
   "metadata": {},
   "source": [
    "## Testy Dyskretne"
   ]
  },
  {
   "cell_type": "markdown",
   "metadata": {},
   "source": [
    "### Dyskretne 3-wymiarowe"
   ]
  },
  {
   "cell_type": "code",
   "execution_count": 25,
   "metadata": {},
   "outputs": [
    {
     "name": "stdout",
     "output_type": "stream",
     "text": [
      "Najlepsza alternatywa (dyskretna, 3D): [ 80  90 100] z funkcją użyteczności [1.5 1.5 1.5]\n"
     ]
    }
   ],
   "source": [
    "# Przykładowe wartości alternatyw w 3 wymiarach (3 kryteria)\n",
    "values_discrete_3d = np.array([\n",
    "    [20, 30, 40],\n",
    "    [50, 60, 70],\n",
    "    [80, 90, 100],\n",
    "    [35, 45, 55],\n",
    "    [65, 75, 85]\n",
    "])\n",
    "\n",
    "# Punkty referencyjne (najlepszy, najgorszy, neutralny) w 3 wymiarach\n",
    "reference_points_discrete_3d = np.array([\n",
    "    [20, 30, 40],  # Najgorszy\n",
    "    [50, 60, 70],   # Neutralny\n",
    "    [80, 90, 100],  # Najlepszy\n",
    "])\n",
    "\n",
    "lambda_param = 1.5  # Współczynnik λ (preferencje decydenta)\n",
    "\n",
    "# Wywołanie metody UTA Star dla wersji dyskretnej\n",
    "best_solution_discrete_3d_idx, utility_values_discrete_3d = UTAstar_discrete(values_discrete_3d, reference_points_discrete_3d, lambda_param=lambda_param)\n",
    "\n",
    "print(f\"Najlepsza alternatywa (dyskretna, 3D): {values_discrete_3d[best_solution_discrete_3d_idx]} z funkcją użyteczności {utility_values_discrete_3d[best_solution_discrete_3d_idx]}\")"
   ]
  },
  {
   "cell_type": "markdown",
   "metadata": {},
   "source": [
    "### Dyskretne 4-wymiarowe"
   ]
  },
  {
   "cell_type": "code",
   "execution_count": 26,
   "metadata": {},
   "outputs": [
    {
     "name": "stdout",
     "output_type": "stream",
     "text": [
      "Najlepsza alternatywa (dyskretna, 4D): [20 30 40 50] z funkcją użyteczności [1.5 1.5 1.5 1.5]\n"
     ]
    }
   ],
   "source": [
    "# Przykładowe wartości alternatyw w 4 wymiarach (4 kryteria)\n",
    "values_discrete_4d = np.array([\n",
    "    [20, 30, 40, 50],\n",
    "    [50, 60, 70, 80],\n",
    "    [80, 90, 100, 110],\n",
    "    [35, 45, 55, 65],\n",
    "    [65, 75, 85, 95]\n",
    "])\n",
    "\n",
    "# Punkty referencyjne (najlepszy, najgorszy, neutralny) w 4 wymiarach\n",
    "reference_points_discrete_4d = np.array([\n",
    "    [80, 90, 100, 110],  # Najgorszy\n",
    "    [50, 60, 70, 80],   # Neutralny\n",
    "    [20, 30, 40, 50],  # Najlepszy\n",
    "])\n",
    "\n",
    "lambda_param = 1.5  # Współczynnik λ (preferencje decydenta)\n",
    "\n",
    "# Wywołanie metody UTA Star dla wersji dyskretnej\n",
    "best_solution_discrete_4d_idx, utility_values_discrete_4d = UTAstar_discrete(values_discrete_4d, reference_points_discrete_4d, lambda_param=lambda_param)\n",
    "\n",
    "print(f\"Najlepsza alternatywa (dyskretna, 4D): {values_discrete_4d[best_solution_discrete_4d_idx]} z funkcją użyteczności {utility_values_discrete_4d[best_solution_discrete_4d_idx]}\")\n"
   ]
  },
  {
   "cell_type": "markdown",
   "metadata": {},
   "source": [
    "## Testy Ciągłe"
   ]
  },
  {
   "cell_type": "markdown",
   "metadata": {},
   "source": [
    "### Ciągłe 3-wymiarowe"
   ]
  },
  {
   "cell_type": "code",
   "execution_count": 27,
   "metadata": {},
   "outputs": [
    {
     "name": "stdout",
     "output_type": "stream",
     "text": [
      "Najlepsza alternatywa (ciągła): [50.00004883 60.00004883 69.99995117] z użytecznością 1.5000000000000002 | [[2.44140610e-06 2.44140610e-06 1.49999512e+00]]\n"
     ]
    }
   ],
   "source": [
    "# Przykładowe wartości alternatyw w 3 wymiarach (3 kryteria) w przestrzeni ciągłej\n",
    "values_continuous_3d = np.array([\n",
    "    [20, 30, 40],\n",
    "    [50, 60, 70],\n",
    "    [80, 90, 100],\n",
    "    [35, 45, 55],\n",
    "    [65, 75, 85]\n",
    "])\n",
    "\n",
    "# Punkty referencyjne (najlepszy, najgorszy, neutralny) w 3 wymiarach\n",
    "reference_points_continuous_3d = np.array([\n",
    "    [20, 30, 40],  # Najgorszy\n",
    "    [50, 60, 100],   # Neutralny\n",
    "    [80, 90, 70],  # Najlepszy\n",
    "])\n",
    "\n",
    "lambda_param = 1.5  # Współczynnik λ (preferencje decydenta)\n",
    "\n",
    "# Wywołanie metody UTA Star dla wersji ciągłej\n",
    "best_solution_continuous, best_utility_continuous_sum, best_utility_continuous_vals = UTAstar_continuous(values_continuous_3d, reference_points_continuous_3d, lambda_param=lambda_param, use_polynomial=False)\n",
    "\n",
    "print(f\"Najlepsza alternatywa (ciągła): {best_solution_continuous} z użytecznością {best_utility_continuous_sum} | {best_utility_continuous_vals}\")\n"
   ]
  },
  {
   "cell_type": "code",
   "execution_count": 28,
   "metadata": {},
   "outputs": [
    {
     "name": "stdout",
     "output_type": "stream",
     "text": [
      "Najlepsza alternatywa (ciągła): [80.         90.         74.99998288] z użytecznością 4.562499999999267 | [[1.5    1.5    1.5625]]\n"
     ]
    }
   ],
   "source": [
    "# Przykładowe wartości alternatyw w 3 wymiarach (3 kryteria) w przestrzeni ciągłej\n",
    "values_continuous_3d = np.array([\n",
    "    [20, 30, 40],\n",
    "    [50, 60, 70],\n",
    "    [80, 90, 100],\n",
    "    [35, 45, 55],\n",
    "    [65, 75, 85]\n",
    "])\n",
    "\n",
    "# Punkty referencyjne (najlepszy, najgorszy, neutralny) w 3 wymiarach\n",
    "reference_points_continuous_3d = np.array([\n",
    "    [20, 30, 40],  # Najgorszy\n",
    "    [50, 60, 100],   # Neutralny\n",
    "    [80, 90, 70],  # Najlepszy\n",
    "])\n",
    "\n",
    "lambda_param = 1.5  # Współczynnik λ (preferencje decydenta)\n",
    "\n",
    "# Wywołanie metody UTA Star dla wersji ciągłej\n",
    "best_solution_continuous, best_utility_continuous_sum, best_utility_continuous_vals = UTAstar_continuous(values_continuous_3d, reference_points_continuous_3d, lambda_param=lambda_param, use_polynomial=True)\n",
    "\n",
    "print(f\"Najlepsza alternatywa (ciągła): {best_solution_continuous} z użytecznością {best_utility_continuous_sum} | {best_utility_continuous_vals}\")\n"
   ]
  },
  {
   "cell_type": "markdown",
   "metadata": {},
   "source": [
    "### Ciągłe 4-wymiarowe"
   ]
  },
  {
   "cell_type": "code",
   "execution_count": 29,
   "metadata": {},
   "outputs": [
    {
     "name": "stdout",
     "output_type": "stream",
     "text": [
      "Najlepsza alternatywa (ciągła): [20.         30.         40.         79.99999548] z użytecznością 5.999999774108704 | [[1.5        1.5        1.5        1.49999977]]\n"
     ]
    }
   ],
   "source": [
    "# Przykładowe wartości alternatyw w 4 wymiarach (4 kryteria) w przestrzeni ciągłej\n",
    "values_continuous_4d = np.array([\n",
    "    [20, 30, 40, 50],\n",
    "    [50, 60, 70, 80],\n",
    "    [80, 90, 100, 110],\n",
    "    [35, 45, 55, 65],\n",
    "    [65, 75, 85, 95]\n",
    "])\n",
    "\n",
    "# Punkty referencyjne (najlepszy, najgorszy, neutralny) w 4 wymiarach\n",
    "reference_points_continuous_4d = np.array([\n",
    "    [80, 90, 100, 110],  # Najgorszy\n",
    "    [50, 60, 70, 50],   # Neutralny\n",
    "    [20, 30, 40, 80],  # Najlepszy\n",
    "])\n",
    "\n",
    "lambda_param = 1.5  # Współczynnik λ (preferencje decydenta)\n",
    "\n",
    "# Wywołanie metody UTA Star dla wersji ciągłej\n",
    "best_solution_continuous, best_utility_continuous_sum, best_utility_continuous_vals = UTAstar_continuous(values_continuous_4d, reference_points_continuous_4d, lambda_param=lambda_param, use_polynomial=False)\n",
    "\n",
    "print(f\"Najlepsza alternatywa (ciągła): {best_solution_continuous} z użytecznością {best_utility_continuous_sum} | {best_utility_continuous_vals}\")\n"
   ]
  },
  {
   "cell_type": "code",
   "execution_count": 30,
   "metadata": {},
   "outputs": [
    {
     "name": "stdout",
     "output_type": "stream",
     "text": [
      "Najlepsza alternatywa (ciągła): [20.         30.         40.         75.00001196] z użytecznością 6.062499999999634 | [[1.5    1.5    1.5    1.5625]]\n"
     ]
    }
   ],
   "source": [
    "# Przykładowe wartości alternatyw w 4 wymiarach (4 kryteria) w przestrzeni ciągłej\n",
    "values_continuous_4d = np.array([\n",
    "    [20, 30, 40, 50],\n",
    "    [50, 60, 70, 80],\n",
    "    [80, 90, 100, 110],\n",
    "    [35, 45, 55, 65],\n",
    "    [65, 75, 85, 95]\n",
    "])\n",
    "\n",
    "# Punkty referencyjne (najlepszy, najgorszy, neutralny) w 4 wymiarach\n",
    "reference_points_continuous_4d = np.array([\n",
    "    [80, 90, 100, 110],  # Najgorszy\n",
    "    [50, 60, 70, 50],   # Neutralny\n",
    "    [20, 30, 40, 80],  # Najlepszy\n",
    "])\n",
    "\n",
    "lambda_param = 1.5  # Współczynnik λ (preferencje decydenta)\n",
    "\n",
    "# Wywołanie metody UTA Star dla wersji ciągłej\n",
    "best_solution_continuous, best_utility_continuous_sum, best_utility_continuous_vals = UTAstar_continuous(values_continuous_4d, reference_points_continuous_4d, lambda_param=lambda_param, use_polynomial=True)\n",
    "\n",
    "print(f\"Najlepsza alternatywa (ciągła): {best_solution_continuous} z użytecznością {best_utility_continuous_sum} | {best_utility_continuous_vals}\")\n"
   ]
  },
  {
   "cell_type": "code",
   "execution_count": 3,
   "metadata": {},
   "outputs": [
    {
     "name": "stdout",
     "output_type": "stream",
     "text": [
      "[[ 20  30  40  50]\n",
      " [ 50  60  70  80]\n",
      " [ 80  90 100 110]\n",
      " [ 35  45  55  65]\n",
      " [ 65  75  85  95]]\n",
      "[[[ 18.5  20.   21.5]\n",
      "  [ 28.5  30.   31.5]\n",
      "  [ 38.5  40.   41.5]\n",
      "  [ 48.5  50.   51.5]]\n",
      "\n",
      " [[ 48.5  50.   51.5]\n",
      "  [ 58.5  60.   61.5]\n",
      "  [ 68.5  70.   71.5]\n",
      "  [ 78.5  80.   81.5]]\n",
      "\n",
      " [[ 78.5  80.   81.5]\n",
      "  [ 88.5  90.   91.5]\n",
      "  [ 98.5 100.  101.5]\n",
      "  [108.5 110.  111.5]]\n",
      "\n",
      " [[ 33.5  35.   36.5]\n",
      "  [ 43.5  45.   46.5]\n",
      "  [ 53.5  55.   56.5]\n",
      "  [ 63.5  65.   66.5]]\n",
      "\n",
      " [[ 63.5  65.   66.5]\n",
      "  [ 73.5  75.   76.5]\n",
      "  [ 83.5  85.   86.5]\n",
      "  [ 93.5  95.   96.5]]]\n"
     ]
    }
   ],
   "source": [
    "import numpy as np \n",
    "def prepare_matrix_for_fuzzy_topsis(alternatives_vector, lambda_param=1):\n",
    "    \"\"\"\n",
    "    Przygotowuje macierz alternatyw do metody TOPSIS z wykorzystaniem rozmytych liczb.\n",
    "    \n",
    "    :param alternatives_vector: Wektor alternatyw (macierz alternatyw)\n",
    "    :return: Przygotowana macierz alternatyw\n",
    "\n",
    "    Example:\n",
    "    - input:\n",
    "    np.array[[x1, x2, x3],\n",
    "     [y1, y2, y3],\n",
    "     [z1, z2, z3]]\n",
    "    - output\n",
    "    np.array[[(x1-lambda, x1, x1+lambda), (x2-lambda, x2, x2+lambda), (x3-lambda, x3, x3+lambda)],\n",
    "     [(y1-lambda, y1, y1+lambda), (y2-lambda, y2, y2+lambda), (y3-lambda, y3, y3+lambda)],\n",
    "     [(z1-lambda, z1, z1+lambda), (z2-lambda, z2, z2+lambda), (z3-lambda, z3, z3+lambda)]]\n",
    "    \"\"\"\n",
    "    # Wyznaczenie rozmiaru macierzy\n",
    "    n, m = alternatives_vector.shape\n",
    "\n",
    "    # Przygotowanie macierzy wynikowej\n",
    "    fuzzy_matrix = np.zeros((n, m, 3))\n",
    "\n",
    "    # Iteracja po alternatywach\n",
    "    for i in range(n):\n",
    "        # Iteracja po kryteriach\n",
    "        for j in range(m):\n",
    "            # Wyznaczenie wartości rozmytej\n",
    "            fuzzy_value = (alternatives_vector[i, j] - lambda_param, alternatives_vector[i, j], alternatives_vector[i, j] + lambda_param)\n",
    "            fuzzy_matrix[i, j] = fuzzy_value\n",
    "\n",
    "    return fuzzy_matrix\n",
    "\n",
    "temp = np.array([\n",
    "    [20, 30, 40, 50],\n",
    "    [50, 60, 70, 80],\n",
    "    [80, 90, 100, 110],\n",
    "    [35, 45, 55, 65],\n",
    "    [65, 75, 85, 95]\n",
    "])\n",
    "\n",
    "print(temp)\n",
    "print(prepare_matrix_for_fuzzy_topsis(temp, 1.5))"
   ]
  }
 ],
 "metadata": {
  "kernelspec": {
   "display_name": ".venv",
   "language": "python",
   "name": "python3"
  },
  "language_info": {
   "codemirror_mode": {
    "name": "ipython",
    "version": 3
   },
   "file_extension": ".py",
   "mimetype": "text/x-python",
   "name": "python",
   "nbconvert_exporter": "python",
   "pygments_lexer": "ipython3",
   "version": "3.13.0"
  }
 },
 "nbformat": 4,
 "nbformat_minor": 0
}
