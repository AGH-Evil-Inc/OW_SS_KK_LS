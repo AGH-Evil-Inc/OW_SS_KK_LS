{
 "cells": [
  {
   "cell_type": "markdown",
   "metadata": {},
   "source": [
    "# Lab 4\n",
    "### Zespół\n",
    "- Krzysztof Kordal\n",
    "- Szymon Szewczyk\n",
    "- Łukasz Szyszka"
   ]
  },
  {
   "cell_type": "code",
   "execution_count": 2,
   "metadata": {},
   "outputs": [],
   "source": [
    "import numpy as np\n",
    "import matplotlib.pyplot as plt\n",
    "\n",
    "# Przykładowe F\n",
    "def F(u):\n",
    "    x, y = u\n",
    "    F1 = x**2 + y**2\n",
    "    F2 = (x - 1)**2 + y**2\n",
    "    return np.array([F1, F2])"
   ]
  },
  {
   "cell_type": "markdown",
   "metadata": {},
   "source": [
    "### Skalaryzacja przez funkcję liniową"
   ]
  },
  {
   "cell_type": "code",
   "execution_count": null,
   "metadata": {},
   "outputs": [],
   "source": [
    "def scalarization_linear(v, lambdas):\n",
    "    \"\"\"\n",
    "    Skalaryzacja przez funkcję liniową: S1(v, λ) = sum(λ_i * v_i) dla λ > 0\n",
    "    :param v: Wektor kryteriów (np. [v1, v2, ..., vN])\n",
    "    :param lambdas: Wektor wag λ (np. [λ1, λ2, ..., λN]), gdzie λ > 0\n",
    "    :return: Wynik skalaryzacji\n",
    "    \"\"\"\n",
    "    return np.dot(lambdas, v)"
   ]
  },
  {
   "cell_type": "markdown",
   "metadata": {},
   "source": [
    "### metoda eps-ograniczeń,"
   ]
  },
  {
   "cell_type": "code",
   "execution_count": null,
   "metadata": {},
   "outputs": [],
   "source": [
    "def epsilon_constraints(u, a, j, F):\n",
    "    \"\"\"\n",
    "    Metoda ε-ograniczeń: S2(u, a, j) = Fj(u) z ograniczeniami Fi(u) ≤ ai, dla i ≠ j\n",
    "    :param u: Wektor zmiennych decyzyjnych\n",
    "    :param a: Wektor ograniczeń ε dla funkcji kryterialnych Fi(u)\n",
    "    :param j: Indeks funkcji Fj, którą optymalizujemy\n",
    "    :param F: Lista funkcji celu F = [F1, F2, ..., FN]\n",
    "    :return: Wynik funkcji Fj(u), jeśli spełnia ograniczenia\n",
    "    \"\"\"\n",
    "    for i, func in enumerate(F):\n",
    "        if i != j and func(u) > a[i]:\n",
    "            return float('inf')  # Odrzucenie punktu, jeśli narusza ograniczenia\n",
    "    return F[j](u)  # Zwróć wartość optymalizowanego kryterium Fj(u)"
   ]
  },
  {
   "cell_type": "markdown",
   "metadata": {},
   "source": [
    "### skalaryzacja przez odległość od wybranego punktu dominującego x"
   ]
  },
  {
   "cell_type": "code",
   "execution_count": null,
   "metadata": {},
   "outputs": [],
   "source": [
    "def scalarization_distance(u, x, lambd, p, F):\n",
    "    \"\"\"\n",
    "    Skalaryzacja przez odległość: S3(u, x, λ, p) = ||F(u) - x||λ,p\n",
    "    :param u: Wektor zmiennych decyzyjnych\n",
    "    :param x: Punkt dominujący\n",
    "    :param lambd: Parametr skalaryzacji λ > 0\n",
    "    :param p: Parametr odległości (p ≥ 1 lub p = ∞ dla metryki Czebyszewa)\n",
    "    :param F: Funkcja wektorowa celu\n",
    "    :return: Odległość ||F(u) - x||λ,p\n",
    "    \"\"\"\n",
    "    diff = np.abs(F(u) - x) ** lambd  # Wektor różnic |F(u) - x| podniesiony do potęgi λ\n",
    "    if p == np.inf:\n",
    "        return np.max(diff)  # Metryka Czebyszewa\n",
    "    else:\n",
    "        return np.sum(diff ** (1 / p))  # Odległość w metryce p"
   ]
  }
 ],
 "metadata": {
  "kernelspec": {
   "display_name": "base",
   "language": "python",
   "name": "python3"
  },
  "language_info": {
   "codemirror_mode": {
    "name": "ipython",
    "version": 3
   },
   "file_extension": ".py",
   "mimetype": "text/x-python",
   "name": "python",
   "nbconvert_exporter": "python",
   "pygments_lexer": "ipython3",
   "version": "3.12.4"
  }
 },
 "nbformat": 4,
 "nbformat_minor": 2
}
